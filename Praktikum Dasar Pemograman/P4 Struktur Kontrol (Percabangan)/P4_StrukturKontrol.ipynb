{
 "cells": [
  {
   "cell_type": "markdown",
   "id": "b3450a5a-c882-48e6-8aae-8be59018aedb",
   "metadata": {
    "id": "b3450a5a-c882-48e6-8aae-8be59018aedb"
   },
   "source": [
    "\n",
    "# Praktikum 4: Struktur Kontrol\n",
    "\n",
    "## Tujuan Pembelajaran\n",
    "- Mengimplementasikan struktur kontrol dalam Python 3.\n",
    "\n",
    "## Pokok Bahasan\n",
    "- If statements\n",
    "- Elif statements\n",
    "- Else statements\n",
    "- Nested control structures\n",
    "- One-line control structures\n",
    "\n",
    "Pada praktikum ini, Anda akan berlatih menggunakan struktur kontrol di dalam bahasa Python untuk menyelesaikan beberapa skenario pemrograman.\n"
   ]
  },
  {
   "attachments": {},
   "cell_type": "markdown",
   "id": "e989c82b-4c5e-4eaf-9152-4a4c9a494b65",
   "metadata": {},
   "source": [
    "\n",
    "### Percobaan 4.1: Menggunakan If Statement\n",
    "\n",
    "Buatlah program yang meminta input umur dari pengguna dan menampilkan pesan \"Anda masih muda!\" jika umur yang diinput kurang dari 30.\n",
    "\n",
    "#### Soal:\n",
    "1. Tuliskan program sesuai dengan deskripsi di atas.\n",
    "2. Berikan penjelasan mengenai output yang dihasilkan.\n",
    "3. Apa yang terjadi jika nilai yang diinput lebih dari atau sama dengan 30?\n",
    "\n",
    "<img src=\"Screenshot (1).png\" alt=\"Deskripsi Gambar\" width=\"450\" style=\"margin-left: 30px;\" />\n",
    "\n"
   ]
  },
  {
   "cell_type": "code",
   "execution_count": 1,
   "id": "b4beb5da-51a9-47ff-a732-d6cf9247ae74",
   "metadata": {
    "id": "ea6a12c4-1360-4bfe-a05f-4098604926bc"
   },
   "outputs": [
    {
     "name": "stdout",
     "output_type": "stream",
     "text": [
      "   2\n",
      "3 x + 2 x + 1\n"
     ]
    }
   ],
   "source": [
    "# Ketikan Code Disini lalu Jalankan (Run)\n",
    "umur = int(input(\"Berapakah umur Anda?: \")) # inisialisasi input untuk mengambil data umur dari user dan data nya di casting int\n",
    "\n",
    "#Periksa apakah umur lebih kecil dari 30 jika iya print output \"Anda masih muda!\" \n",
    "if umur < 30:\n",
    "    print(\"Anda masih muda!\")\n",
    "\n",
    "print(\"Terima Kasih!\") #print \"Terima Kasih!\"\n",
    "\n",
    "#input = 18\n",
    "#output = Anda masih muda!\n",
    "#         Terima Kasih!"
   ]
  },
  {
   "cell_type": "markdown",
   "id": "edafbe12",
   "metadata": {},
   "source": [
    "**penjelasan**:\n",
    " \n",
    "Karena input nya lebih kecil dari 30 maka printah `print(\"Anda masih muda!\")` akan di eksekusi karena oprasi perbandingan `umur < 30` menghasilkan `True`. Dalam contoh ini input nya 18"
   ]
  },
  {
   "cell_type": "code",
   "execution_count": 25,
   "id": "0036c972",
   "metadata": {},
   "outputs": [
    {
     "name": "stdout",
     "output_type": "stream",
     "text": [
      "Anda masih muda!\n",
      "Terima Kasih!\n"
     ]
    }
   ],
   "source": [
    "# Ketikan Code Disini lalu Jalankan (Run)\n",
    "umur = int(input(\"Berapakah umur Anda?: \")) # inisialisasi input untuk mengambil data umur dari user dan data nya di casting int\n",
    "\n",
    "#Periksa apakah umur lebih kecil dari 30 jika iya print output \"Anda masih muda!\" \n",
    "if umur < 30:\n",
    "    print(\"Anda masih muda!\")\n",
    "\n",
    "print(\"Terima Kasih!\") #print \"Terima Kasih!\"\n",
    "\n",
    "#input = 45\n",
    "#output = Terima Kasih!\n",
    "# "
   ]
  },
  {
   "cell_type": "markdown",
   "id": "d7aa0886",
   "metadata": {},
   "source": [
    "**penjelasan**:\n",
    "\n",
    "jika input nya lebih besar atau sama dengan 30 maka printah `print(\"Anda masih muda!\")` tidak akan di eksekusi karena oprasi perbandingan `umur < 30` menghasilkan `False`. dalam contoh ini input nya 45"
   ]
  },
  {
   "cell_type": "markdown",
   "id": "28e24639-72f7-4d78-8169-b805c5bee744",
   "metadata": {},
   "source": [
    "\n",
    "### Percobaan 4.2: Menggunakan If, Elif, dan Else\n",
    "\n",
    "Buatlah program yang meminta input usia pengguna dan menampilkan kategori usia mereka sebagai berikut:\n",
    "- 0-12 tahun: Anak-anak\n",
    "- 13-19 tahun: Remaja\n",
    "- 20-59 tahun: Dewasa\n",
    "- 60 tahun ke atas: Lansia\n",
    "\n",
    "#### Soal:\n",
    "1. Buat program dengan menggunakan if, elif, dan else.\n",
    "2. Berikan penjelasan mengenai setiap kondisi.\n",
    "3. Tampilkan hasilnya dan beri komentar.\n",
    "\n",
    "<img src=\"Screenshot (2).png\" alt=\"Deskripsi Gambar\" width=\"450\" style=\"margin-left: 30px;\" />\n"
   ]
  },
  {
   "cell_type": "code",
   "execution_count": 1,
   "id": "b3f87cea-e50a-46fd-820f-bc12703db8da",
   "metadata": {
    "id": "ea6a12c4-1360-4bfe-a05f-4098604926bc"
   },
   "outputs": [
    {
     "name": "stdout",
     "output_type": "stream",
     "text": [
      "Anda remaja\n"
     ]
    }
   ],
   "source": [
    "# Ketikan Code Disini lalu Jalankan (Run)\n",
    "# Mulai kode di sini\n",
    "usia = int(input(\"Berapakah usia Anda? \")) # inisialisasi input untuk mengambil data usia dari user dan data nya di casting int\n",
    "\n",
    "#Periksa apakah usia dari user termasuk di golongan apa\n",
    "if usia <= 12: # jika usia user lebih kecil atau sama dengan 12 maka user masuk ke gologan anak-anak\n",
    "    print(\"Anda masih anak-anak\")\n",
    "\n",
    "elif usia <= 19: # jika tidak, periksa apakah lebih kecil atau sama dengan 19 maka user masuk ke gologan remaja\n",
    "    print(\"Anda remaja\") \n",
    "\n",
    "elif usia <= 59: # jika tidak, periksa apakah lebih kecil atau sama dengan 59 maka user masuk ke gologan dewasa\n",
    "    print(\"Anda dewasa\") \n",
    "\n",
    "else: # Jika semua kondisi di atas tidak ada satupun yg memenuhi maka user masuk ke gologan lansia\n",
    "    print(\"Anda lansia\")\n",
    "\n",
    "#END"
   ]
  },
  {
   "cell_type": "markdown",
   "id": "04451d75-fd5c-418f-b2b3-bfe3ca35497d",
   "metadata": {},
   "source": [
    "\n",
    "### Percobaan 4.3: Struktur Kontrol Bersarang (Nested If)\n",
    "\n",
    "Buatlah program yang menanyakan tinggi badan seseorang dan berat badannya, kemudian tentukan apakah mereka memiliki berat badan yang ideal dengan kriteria berikut:\n",
    "- Jika tinggi badan < 160 cm, berat badan ideal adalah < 60 kg.\n",
    "- Jika tinggi badan >= 160 cm, berat badan ideal adalah < 70 kg.\n",
    "\n",
    "#### Soal:\n",
    "1. Implementasikan struktur kontrol bersarang untuk menentukan apakah berat badan ideal.\n",
    "2. Uji dengan berbagai input dan jelaskan hasilnya.\n",
    "\n",
    "<img src=\"Screenshot (3).png\" alt=\"Deskripsi Gambar\" width=\"450\" style=\"margin-left: 30px;\" />\n"
   ]
  },
  {
   "cell_type": "code",
   "execution_count": 16,
   "id": "75357d06-3bb8-4b42-94cf-f4b2be24a792",
   "metadata": {
    "id": "ea6a12c4-1360-4bfe-a05f-4098604926bc"
   },
   "outputs": [
    {
     "name": "stdout",
     "output_type": "stream",
     "text": [
      "Berat badan Anda ideal!\n"
     ]
    }
   ],
   "source": [
    "# Ketikan Code Disini lalu Jalankan (Run)\n",
    "tinggi = float(input(\"Berapa tinggi badan Anda (dalam cm)? \"))\n",
    "berat = float(input(\"Berapa berat badan Anda (dalam kg)? \"))\n",
    "\n",
    "if tinggi < 160:\n",
    "    if berat < 60:\n",
    "        print(\"Berat badan Anda ideal!\")\n",
    "    else:\n",
    "        print(\"Berat badan Anda tidak ideal.\")\n",
    "else:\n",
    "    if berat < 70:\n",
    "        print(\"Berat badan Anda ideal!\")\n",
    "    else:\n",
    "        print(\"Berat badan Anda tidak ideal.\")"
   ]
  },
  {
   "cell_type": "markdown",
   "id": "2b0246ff-584f-4484-b52d-18733bcde7ae",
   "metadata": {},
   "source": [
    "\n",
    "### Percobaan 4.4: Kombinasi Kondisi dengan Operator Logika\n",
    "\n",
    "Buatlah program yang mengevaluasi tiga nilai: usia, tinggi, dan berat badan seseorang. Program akan menentukan apakah seseorang dapat mengikuti kompetisi atletik dengan kondisi:\n",
    "- Usia antara 18 dan 30 tahun\n",
    "- Tinggi badan lebih dari 165 cm\n",
    "- Berat badan di bawah 80 kg\n",
    "\n",
    "Gunakan operator logika (`and`, `or`, `not`) untuk memeriksa kondisi tersebut.\n",
    "\n",
    "#### Soal:\n",
    "1. Implementasikan program dengan kombinasi kondisi dan operator logika.\n",
    "2. Uji dengan berbagai input untuk memastikan program berfungsi sesuai.\n",
    "\n",
    "<img src=\"Screenshot (4).png\" alt=\"Deskripsi Gambar\" width=\"450\" style=\"margin-left: 30px;\" />\n"
   ]
  },
  {
   "cell_type": "code",
   "execution_count": 17,
   "id": "a61ed888-46f5-4412-bffe-22824dc41f1e",
   "metadata": {
    "id": "ea6a12c4-1360-4bfe-a05f-4098604926bc"
   },
   "outputs": [
    {
     "name": "stdout",
     "output_type": "stream",
     "text": [
      "Anda memenuhi syarat untuk mengikuti kompetisi atletik!\n"
     ]
    }
   ],
   "source": [
    "# Ketikan Code Disini lalu Jalankan (Run)\n",
    "usia = int(input(\"Berapa usia Anda? \"))\n",
    "tinggi = float(input(\"Berapa tinggi badan Anda? \"))\n",
    "berat = float(input(\"Berapa berat badan Anda? \"))\n",
    "\n",
    "if 18 <= usia <= 30 and tinggi > 165 and berat < 80:\n",
    "    print(\"Anda memenuhi syarat untuk mengikuti kompetisi atletik!\")\n",
    "else:\n",
    "    print(\"Maaf, Anda tidak memenuhi syarat.\")"
   ]
  },
  {
   "cell_type": "markdown",
   "id": "027609a3-346c-4999-a485-772128a8bb6a",
   "metadata": {},
   "source": [
    "\n",
    "### Percobaan 4.5: Struktur Kontrol Satu Baris\n",
    "\n",
    "Buat program yang menanyakan apakah seseorang memiliki SIM. Jika mereka memiliki SIM, tampilkan \"Anda bisa mengemudi!\", jika tidak tampilkan \"Anda tidak bisa mengemudi!\" Tulis program ini dalam satu baris menggunakan if-else satu baris.\n",
    "\n",
    "#### Soal:\n",
    "1. Buat program yang menggunakan if-else satu baris.\n",
    "2. Berikan penjelasan mengenai cara kerja program.\n",
    "\n",
    "<img src=\"Screenshot (5).png\" alt=\"Deskripsi Gambar\" width=\"550\" style=\"margin-left: 30px;\" />\n"
   ]
  },
  {
   "cell_type": "code",
   "execution_count": 21,
   "id": "ea6a12c4-1360-4bfe-a05f-4098604926bc",
   "metadata": {
    "id": "ea6a12c4-1360-4bfe-a05f-4098604926bc"
   },
   "outputs": [
    {
     "name": "stdout",
     "output_type": "stream",
     "text": [
      "ganjil\n"
     ]
    }
   ],
   "source": [
    "# Ketikan Code Disini lalu Jalankan (Run)\n",
    "num = int(input(\"masukan angka: \"))\n",
    "\n",
    "print(\"genap\" if num % 2 == 0 else \"ganjil\")"
   ]
  },
  {
   "cell_type": "markdown",
   "id": "108ed125-3fcf-4ae5-aa9b-68247522cb89",
   "metadata": {},
   "source": [
    "\n",
    "### Percobaan 4.6:Struktur Kontrol Satu Baris\n",
    "\n",
    "Buatlah program yang terus meminta input bilangan bulat dari pengguna dan berhenti ketika pengguna memasukkan angka negatif. Jika bilangan yang dimasukkan genap, program akan menampilkan \"Angka genap\". Jika bilangan ganjil, tampilkan \"Angka ganjil\".\n",
    "\n",
    "#### Soal:\n",
    "1. Implementasikan perulangan dengan kondisi untuk mengecek bilangan ganjil atau genap.\n",
    "2. Uji program dengan berbagai input dan berikan penjelasan.\n",
    "\n",
    "<img src=\"Screenshot (6).png\" alt=\"Deskripsi Gambar\" width=\"550\" style=\"margin-left: 30px;\" />\n"
   ]
  },
  {
   "cell_type": "code",
   "execution_count": 22,
   "id": "f69b9cfb-c25a-4a8e-83ea-570757748c97",
   "metadata": {
    "id": "ea6a12c4-1360-4bfe-a05f-4098604926bc"
   },
   "outputs": [
    {
     "name": "stdout",
     "output_type": "stream",
     "text": [
      "Angka genap\n",
      "Angka genap\n",
      "Angka ganjil\n",
      "Angka genap\n",
      "Angka genap\n",
      "Angka genap\n",
      "Angka ganjil\n",
      "Angka genap\n",
      "Angka genap\n",
      "Program berhenti.\n"
     ]
    }
   ],
   "source": [
    "# Ketikan Code Disini lalu Jalankan (Run)\n",
    "while True: # perulangan tanpa henti\n",
    "    # Ambil data dari user\n",
    "    angka = int(input(\"Masukkan bilangan bulat (negatif untuk berhenti): \"))\n",
    "\n",
    "    # jika angka kurang dari nol(negatif) loop akan break atau berhenti. Bisa di di bilang cara untuk menghentikan program atau dengan cara menginputkan angka negatif\n",
    "    if angka < 0:\n",
    "        print(\"Program berhenti.\")\n",
    "        break\n",
    "    # jika tidak, periksa apakah angka yang di moduluskan hasilnya sama dengan nol, jika iya maka angka itu genap\n",
    "    elif angka % 2 == 0:\n",
    "        print(\"Angka genap\")\n",
    "    else: # jika semua kondisi di atas tidak terpenuhi maka angka ganjil\n",
    "        print(\"Angka ganjil\")"
   ]
  },
  {
   "cell_type": "code",
   "execution_count": 12,
   "id": "b54abe5c-314e-4f9a-8af8-5f3a371bd786",
   "metadata": {},
   "outputs": [
    {
     "data": {
      "text/plain": [
       "'\\nContoh sederhana dari sebuah algoritma informal yang menjelaskan bagaimana menentukan apakah sebuah angka adalah positif, negatif, atau nol:\\n\\n- Mulai - Mulai proses.\\n- Baca angka - Ambil sebuah angka dari pengguna.\\n- Periksa angka tersebut:\\n- - Jika angka itu lebih besar dari nol, cetak \"Angka positif\".\\n- - Jika angka itu kurang dari nol, cetak \"Angka negatif\".\\n- - Jika angka itu sama dengan nol, cetak \"Angka adalah nol\".\\n- Selesai - Proses selesai.\\n\\natau\\n- Mulai - Mulai proses pengecekan.\\n- Tanya ke diri sendiri - Apakah saya sudah mandi hari ini?\\n- Evaluasi jawaban:\\n- - Jika jawabannya adalah \"tidak\", maka:\\n- - - Kesimpulan: Saya mungkin bau karena tidak mandi.\\n- - - Tindakan: Pertimbangkan untuk mandi agar tidak bau.\\n- - Jika jawabannya adalah \"ya\", maka:\\n- - - Kesimpulan: Saya tidak bau karena sudah mandi.\\nSelesai - Proses selesai, lanjutkan dengan aktivitas lain.\\n\\n'"
      ]
     },
     "execution_count": 12,
     "metadata": {},
     "output_type": "execute_result"
    }
   ],
   "source": [
    "# Tugas Mandiri (latihan membuat alur teks program)\n",
    "## Buatlah program dengan alur yang anda bikin sesuai materi diatas\n",
    "## Dimulai dari alur teks (Algoritma Informal)\n",
    "\"\"\"\n",
    "Mulai - Mulai proses perhitungan BMI.\n",
    "Baca tinggi dan berat - Ambil tinggi badan (dalam cm) dan berat badan (dalam kg) dari pengguna.\n",
    "Hitung BMI:\n",
    "Konversi tinggi ke meter: tinggi = tinggi / 100.\n",
    "Hitung BMI: BMI = berat / (tinggi)^2.\n",
    "Cetak BMI - Tampilkan hasil BMI pengguna.\n",
    "Periksa kategori BMI:\n",
    "Jika BMI < 18.5, cetak \"Berat badan kurang\".\n",
    "Jika 18.5 ≤ BMI ≤ 24.9, cetak \"Berat badan ideal/normal\".\n",
    "Jika 25 ≤ BMI ≤ 29.9, cetak \"Berat badan berlebih (overweight)\".\n",
    "Jika BMI > 29.9, cetak \"Obesitas\".\n",
    "Selesai - Proses selesai.\n",
    "\n",
    "\"\"\"\n",
    "\n"
   ]
  },
  {
   "cell_type": "code",
   "execution_count": 1,
   "id": "d16eb091",
   "metadata": {},
   "outputs": [
    {
     "name": "stdout",
     "output_type": "stream",
     "text": [
      "BMI Anda: 16.26\n",
      "Kategori: Berat badan kurang\n"
     ]
    }
   ],
   "source": [
    "\n",
    "# fungsi untuk mengkatergorikan nilai BMI\n",
    "def kategori_BMI(BMI):\n",
    "    if BMI < 18.5: return \"Berat badan kurang\"\n",
    "\n",
    "    elif 18.5 <= BMI <= 24.9: return \"Berat badan ideal/normal\"\n",
    "\n",
    "    elif 25 <= BMI <= 29.9: return \"Berat badan berlebih (overweight)\"\n",
    "\n",
    "    else: return \"Obesitas\"\n",
    "\n",
    "# Ambil data tinggi dan berat badan dari user\n",
    "tinggi = float(input(\"Berapa tinggi badan saya (dalam cm)? \"))\n",
    "berat = float(input(\"Berapa berat badan saya (dalam kg)? \"))\n",
    "\n",
    "\n",
    "# Hitung tinggi dan berat badan dengan rumus BMI yaitu BMI = Berat Badan dalam kg / (Tinggi Badan dalam m)^2\n",
    "tinggi = tinggi/100\n",
    "# karena rumus BMI melibatkan tinggi badan dalam satuan meter kuadrat (m^2). karena input dalam cm oleh karena itu kita konfersi dulu tinggi ke meter\n",
    "# panggil fungsi pow untuk mengkuadrat kan tinggi\n",
    "BMI = berat / pow(tinggi, 2) # bagi tinggi dengan berat\n",
    "\n",
    "#print hasil bmi user\n",
    "print(\"BMI Anda:\", round(BMI,2))\n",
    "#panggil fungsi kategori_BMI dan print hasil nya\n",
    "print(\"Kategori:\", kategori_BMI(BMI))"
   ]
  },
  {
   "cell_type": "markdown",
   "id": "3da5ab64",
   "metadata": {},
   "source": [
    "### Kesimpulan\n",
    "Struktur kontrol  di Python memungkinkan kita untuk mengatur alur eksekusi program sesuai kondisi.\n",
    "berikut adalah Struktur kontrol di bahasa pemograman python:\n",
    "1. if,elfi,else\n",
    "2. Nested If\n",
    "3. Kombinasi Kondisi dengan Operator Logika\n",
    "4. Struktur Kontrol Satu Baris\n",
    "5. Struktur Kontrol Satu Baris\n",
    "\n",
    "<div style=\"background-color: white; width: 100%; display: flex; justify-content: center; align-items: center; border-radius: 10px; margin-top: 5rem;\">\n",
    "    <img src=\"https://miro.medium.com/v2/resize:fit:640/format:webp/1*-Oh2U6eGGZgRz9TFHTh_IQ.jpeg\" alt=\"Flow control\" width=\"40%\" />\n",
    "</div>\n"
   ]
  }
 ],
 "metadata": {
  "colab": {
   "provenance": []
  },
  "kernelspec": {
   "display_name": "Python 3 (ipykernel)",
   "language": "python",
   "name": "python3"
  },
  "language_info": {
   "codemirror_mode": {
    "name": "ipython",
    "version": 3
   },
   "file_extension": ".py",
   "mimetype": "text/x-python",
   "name": "python",
   "nbconvert_exporter": "python",
   "pygments_lexer": "ipython3",
   "version": "3.12.6"
  },
  "widgets": {
   "application/vnd.jupyter.widget-state+json": {
    "state": {},
    "version_major": 2,
    "version_minor": 0
   }
  }
 },
 "nbformat": 4,
 "nbformat_minor": 5
}
