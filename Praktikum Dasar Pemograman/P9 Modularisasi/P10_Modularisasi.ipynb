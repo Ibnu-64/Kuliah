{
 "cells": [
  {
   "cell_type": "markdown",
   "id": "b3450a5a-c882-48e6-8aae-8be59018aedb",
   "metadata": {
    "id": "b3450a5a-c882-48e6-8aae-8be59018aedb"
   },
   "source": [
    "# **Modul Pertemuan 10: Modularisasi**\n",
    "\n",
    "## **Pembahasan**\n",
    "\n",
    "### **1. Modularisasi**\n",
    "\n",
    "Dalam Python, modularisasi adalah proses pengelompokan kode ke dalam beberapa bagian yang logis sehingga lebih mudah dimengerti, digunakan kembali, dan dikelola. Setiap bagian dari program yang modular biasanya ditempatkan dalam satu file Python, yang disebut modul. Modul ini bisa berisi definisi fungsi, kelas, atau variabel.\n",
    "\n",
    "#### **Manfaat Modularisasi:**\n",
    "1. **Pemeliharaan Kode:** Kode yang modular lebih mudah dipelihara dan dikembangkan.\n",
    "2. **Reusabilitas:** Modul yang dibuat dapat digunakan kembali di program lain tanpa harus menulis ulang kode.\n",
    "3. **Organisasi yang Lebih Baik:** Program yang besar dapat dipecah menjadi modul-modul yang lebih kecil dan terpisah, sehingga lebih terstruktur.\n",
    "\n",
    "#### **Cara Menggunakan Modul:**\n",
    "Untuk menggunakan modul dalam program Python, kita bisa menggunakan perintah `import`. Contoh:\n",
    "\n",
    "```python\n",
    "import contoh\n",
    "```\n",
    "\n",
    "Dengan `import`, kita bisa mengakses fungsi, variabel, atau kelas yang ada di dalam modul tersebut. Jika nama modul terlalu panjang, kita bisa menggunakan alias:\n",
    "\n",
    "```python\n",
    "import contoh as c\n",
    "```\n",
    "\n",
    "Kita juga bisa mengimpor hanya sebagian fungsi atau variabel dari modul:\n",
    "\n",
    "```python\n",
    "from contoh import pi, pangkat\n",
    "```\n",
    "\n",
    "---\n",
    "\n",
    "## **Tugas**\n",
    "\n",
    "**Note:** Gunakan logika pemrograman bukan cuman ngikutin gambar. Baca betul-betul apa yang di intruksikan!!"
   ]
  },
  {
   "attachments": {},
   "cell_type": "markdown",
   "id": "e989c82b-4c5e-4eaf-9152-4a4c9a494b65",
   "metadata": {},
   "source": [
    "### **Soal 1: Membuat Modul dan Menggunakan Modul**\n",
    "\n",
    "#### **Instruksi:**\n",
    "1. Buatlah sebuah modul yang bernama `tabung.py` yang berisi fungsi untuk menghitung volume tabung. Rumus volume tabung: \n",
    "   \\begin{equation} A = 2\\pi r(h + r) \\end{equation} \n",
    "   Di mana \\( r \\) adalah jari-jari dan \\( t \\) adalah tinggi tabung. Fungsi tersebut menerima dua parameter: jari-jari dan tinggi, dan mengembalikan hasil perhitungan volume.\n",
    "   \n",
    "   Berikut adalah contoh format yang benar:\n",
    "\n",
    "   <img src=\"Screenshot (1).png\" alt=\"Deskripsi Gambar\" width=\"250\" style=\"margin-left: 30px;\" />\n",
    "\n",
    "3. Buatlah program utama yang mengimpor modul `tabung` dan menggunakan fungsi `volume_tabung` untuk menghitung volume tabung dengan jari-jari 7 dan tinggi 10. Berikut format penggunaan yang benar:\n",
    "\n",
    "   <img src=\"Screenshot (2).png\" alt=\"Deskripsi Gambar\" width=\"250\" style=\"margin-left: 30px;\" />\n",
    "\n",
    "4. Jelaskan secara terperinci bagaimana caranya dia bisa mengambil nilai dari file `tabung.py` tersebut\n",
    "\n",
    "---\n"
   ]
  },
  {
   "cell_type": "code",
   "execution_count": null,
   "id": "b4beb5da-51a9-47ff-a732-d6cf9247ae74",
   "metadata": {
    "id": "ea6a12c4-1360-4bfe-a05f-4098604926bc"
   },
   "outputs": [
    {
     "name": "stdout",
     "output_type": "stream",
     "text": [
      "Volume tabung dengan jari-jari 7 dan tinggi 10 adalah 1538.6000000000001\n"
     ]
    }
   ],
   "source": [
    "# Ketikan Code Disini lalu Jalankan (Run)\n",
    "import myModule.tabung as tb\n",
    "# import akan mengimport file myModule/tabung.py sebagai tb\n",
    "\n",
    "r = 7\n",
    "t = 10\n",
    "volume = tb.volumeTabung(r, t) # memanggil fungsi volumeTabung dari file tabung.py\n",
    "print(f\"Volume tabung dengan jari-jari {r} dan tinggi {t} adalah {volume}\") # mencetak hasil volume tabung\n"
   ]
  },
  {
   "cell_type": "markdown",
   "id": "28e24639-72f7-4d78-8169-b805c5bee744",
   "metadata": {},
   "source": [
    "\n",
    "### **Soal 2: Informasi Modul**\n",
    "\n",
    "#### **Instruksi:**\n",
    "1. Buatlah program Python yang mengimpor modul `tabung` dari soal 1, kemudian gunakan fungsi `dir()` untuk menampilkan semua fungsi dan variabel yang ada di dalam modul tersebut.\n",
    "\n",
    "   Berikut adalah contoh kode yang benar:\n",
    "\n",
    "   <img src=\"Screenshot (3).png\" alt=\"Deskripsi Gambar\" width=\"250\" style=\"margin-left: 30px;\" />\n",
    "\n",
    "2. Jelaskan kode dan hasil output programnya serta apa itu fungsi ```dir()``` dan buat apa!\n",
    "\n",
    "---\n",
    "\n"
   ]
  },
  {
   "cell_type": "code",
   "execution_count": 2,
   "id": "329c91f1",
   "metadata": {},
   "outputs": [
    {
     "name": "stdout",
     "output_type": "stream",
     "text": [
      "['__builtins__', '__cached__', '__doc__', '__file__', '__loader__', '__name__', '__package__', '__spec__', 'pi', 'volumeTabung']\n",
      "1. pi\n",
      "2. volumeTabung\n"
     ]
    },
    {
     "data": {
      "text/plain": [
       "[None, None]"
      ]
     },
     "execution_count": 2,
     "metadata": {},
     "output_type": "execute_result"
    }
   ],
   "source": [
    "import myModule.tabung as tb\n",
    "\n",
    "# Fungsi untuk menampilkan fungsi fungsi di dalam file tabung.py\n",
    "def filter_dir(directory):\n",
    "    return [file for file in directory if \"__\" not in file]\n",
    "\n",
    "directory = dir(tb)\n",
    "print(directory) # mencetak isi dari directory\n",
    "\n",
    "functionInDirectory = filter_dir(directory)\n",
    "\n",
    "# gunakan list comprehension untuk mencetak fungsi fungsi yang ada di dalam directory\n",
    "[print(f\"{i+1}. {functionInDirectory[i]}\") for i in range(len(functionInDirectory))] # mencetak fungsi fungsi yang ada di dalam directory yang sudah difilter"
   ]
  },
  {
   "cell_type": "markdown",
   "id": "04451d75-fd5c-418f-b2b3-bfe3ca35497d",
   "metadata": {},
   "source": [
    "### **Soal 3: Membuat Modul Aritmatika Lengkap**\n",
    "\n",
    "#### **Instruksi:**\n",
    "1. Buatlah sebuah modul bernama `aritmatika.py` yang berisi beberapa fungsi aritmatika:\n",
    "   - `tambah(a, b)` : Fungsi untuk menjumlahkan dua angka.\n",
    "   - `kurang(a, b)` : Fungsi untuk mengurangi dua angka.\n",
    "   - `kali(a, b)` : Fungsi untuk mengalikan dua angka.\n",
    "   - `bagi(a, b)` : Fungsi untuk membagi dua angka.\n",
    "\n",
    "2. Buatlah program Python yang mengimpor modul `aritmatika` dan menggunakan semua fungsi di dalamnya untuk mengoperasikan dua angka. Misalnya, gunakan angka 10 dan 5.\n",
    "   - Perbaiki code serta jelaskan apa yang salah dari code tersebut perbarisnya \n",
    "   Berikut contoh penggunaannya:\n",
    "\n",
    "   <img src=\"Screenshot (4).png\" alt=\"Deskripsi Gambar\" width=\"250\" style=\"margin-left: 30px;\" />\n",
    "\n",
    "---"
   ]
  },
  {
   "cell_type": "code",
   "execution_count": null,
   "id": "75357d06-3bb8-4b42-94cf-f4b2be24a792",
   "metadata": {
    "id": "ea6a12c4-1360-4bfe-a05f-4098604926bc"
   },
   "outputs": [
    {
     "name": "stdout",
     "output_type": "stream",
     "text": [
      "Penjumlahan 20 + 10 = 30\n",
      "Pengurangan 20 - 10 = 10\n",
      "Perkalian 20 * 10 = 200\n",
      "Pembagian 20 / 10 = 2.0\n"
     ]
    }
   ],
   "source": [
    "# Ketikan Code Disini lalu Jalankan (Run)\n",
    "import myModule.aritmatika as math # import file myModule/aritmatika.py sebagai math\n",
    "\n",
    "a = 20\n",
    "b = 10\n",
    "# panggil function tambah, kurang, kali, bagi dari file aritmatika.py dan print hasilnya\n",
    "print(f\"Penjumlahan {a} + {b} = {math.tambah(a, b)}\")\n",
    "print(f\"Pengurangan {a} - {b} = {math.kurang(a, b)}\")\n",
    "print(f\"Perkalian {a} * {b} = {math.kali(a, b)}\")\n",
    "print(f\"Pembagian {a} / {b} = {math.bagi(a, b)}\")\n"
   ]
  },
  {
   "cell_type": "markdown",
   "id": "2b0246ff-584f-4484-b52d-18733bcde7ae",
   "metadata": {},
   "source": [
    "### **Soal 4: Penggunaan Modul di Berbagai Program**\n",
    "\n",
    "#### **Instruksi:**\n",
    "1. Buatlah modul bernama `konversi.py` yang berisi fungsi-fungsi untuk konversi suhu antara Celcius, Fahrenheit, dan Kelvin:\n",
    "   - `celcius_ke_fahrenheit(c)` : Mengubah suhu dari Celcius ke Fahrenheit.\n",
    "   - `fahrenheit_ke_celcius(f)` : Mengubah suhu dari Fahrenheit ke Celcius.\n",
    "   - `celcius_ke_kelvin(c)` : Mengubah suhu dari Celcius ke Kelvin.\n",
    "   - `kelvin_ke_celcius(k)` : Mengubah suhu dari Kelvin ke Celcius.\n",
    "\n",
    "2. Buatlah program Python yang mengimpor modul `konversi` dan meminta input suhu dari pengguna, lalu mengonversinya ke satuan lain sesuai pilihan pengguna.\n",
    "\n",
    "3. **Tantangan tambahan:** Modifikasilah program sehingga bisa menangani semua konversi suhu dengan fleksibel. Misalnya, pengguna dapat memilih untuk mengonversi suhu dari Fahrenheit ke Kelvin, atau dari Kelvin ke Fahrenheit, dengan menggunakan fungsi yang ada secara modular.\n",
    "\n",
    "   <img src=\"Screenshot (5).png\" alt=\"Deskripsi Gambar\" width=\"450\" />\n",
    "\n",
    "---"
   ]
  },
  {
   "cell_type": "code",
   "execution_count": 9,
   "id": "a61ed888-46f5-4412-bffe-22824dc41f1e",
   "metadata": {
    "id": "ea6a12c4-1360-4bfe-a05f-4098604926bc"
   },
   "outputs": [
    {
     "name": "stdout",
     "output_type": "stream",
     "text": [
      "0. keluar\n",
      "1. Celcius ke Fahrenheit\n",
      "2. Celcius ke Kelvin\n",
      "3. Fahrenheit ke Celcius\n",
      "4. Kelvin ke Celcius\n",
      "20.0 °C setara dengan 68.0 °F\n",
      "0. keluar\n",
      "1. Celcius ke Fahrenheit\n",
      "2. Celcius ke Kelvin\n",
      "3. Fahrenheit ke Celcius\n",
      "4. Kelvin ke Celcius\n",
      "20.0 °C setara dengan 293.15 K\n",
      "0. keluar\n",
      "1. Celcius ke Fahrenheit\n",
      "2. Celcius ke Kelvin\n",
      "3. Fahrenheit ke Celcius\n",
      "4. Kelvin ke Celcius\n",
      "68.0 °F setara dengan 20.0 °C\n",
      "0. keluar\n",
      "1. Celcius ke Fahrenheit\n",
      "2. Celcius ke Kelvin\n",
      "3. Fahrenheit ke Celcius\n",
      "4. Kelvin ke Celcius\n",
      "300.0 K  setara dengan -205.14999999999998 °C\n",
      "0. keluar\n",
      "1. Celcius ke Fahrenheit\n",
      "2. Celcius ke Kelvin\n",
      "3. Fahrenheit ke Celcius\n",
      "4. Kelvin ke Celcius\n",
      "Terima kasih telah menggunakan program ini\n"
     ]
    }
   ],
   "source": [
    "# Ketikan Code Disini lalu Jalankan (Run)\n",
    "import myModule.konversi as konversi # import file myModule/konversi.py sebagai konversi\n",
    "\n",
    "\n",
    "while True:\n",
    "    # menu konversi suhu\n",
    "    # gunakan list comprehension untuk mencetak fungsi fungsi yang ada di dalam directory\n",
    "    print(\"0. keluar\")\n",
    "    print(\"1. Celcius ke Fahrenheit\")\n",
    "    print(\"2. Celcius ke Kelvin\")\n",
    "    print(\"3. Fahrenheit ke Celcius\")\n",
    "    print(\"4. Kelvin ke Celcius\")\n",
    "    choice = int(input(\"Pilihan anda: \"))  # Input pilihan menu(konfersi input user ke lower case)\n",
    "\n",
    "    if choice == 0: \n",
    "        print(\"Terima kasih telah menggunakan program ini\")\n",
    "        break\n",
    "    elif choice == 1:\n",
    "        c = float(input(\"Masukkan suhu dalam celcius: \")) #minta input suhu dalam celcius ke user\n",
    "        print(f\"{c} °C setara dengan {konversi.celcius_ke_fahrenheit(c)} °F\") # mencetak hasil konversi suhu celcius ke fahrenheit\n",
    "    elif choice == 2:\n",
    "        c = float(input(\"Masukkan suhu dalam celcius: \"))\n",
    "        print(f\"{c} °C setara dengan {konversi.celcius_ke_kelvin(c)} K\")\n",
    "    elif choice == 3:\n",
    "        f = float(input(\"Masukkan suhu dalam fahrenheit: \"))\n",
    "        print(f\"{f} °F setara dengan {konversi.fahrenheit_ke_celcius(f)} °C\")\n",
    "    elif choice == 4:\n",
    "        k = float(input(\"Masukkan suhu dalam kelvin: \"))\n",
    "        print(f\"{k} K  setara dengan {konversi.kelvin_ke_celcius(f)} °C\")\n",
    "    else:\n",
    "        print(\"Pilihan tidak valid\")\n",
    "        continue\n",
    "\n"
   ]
  },
  {
   "cell_type": "markdown",
   "id": "0782271c-ccc3-44bd-b3b1-1ea50e756cc2",
   "metadata": {},
   "source": [
    "<span style=\"color:red; font-size: 20px;\">\n",
    "<b>Tugas Mandiri </b>\n",
    "</span>\n",
    "\n",
    "- Buatlah aplikasi sederhana menggunakan studikasus yang kalian tentukan sendiri dengan menggunakan modularisasi built-in and user defined, yang di mana menampilkan hasil dan bisa di lihat file nya menggunakan fungsi ```dir()```.\n",
    "- Jelaskan program."
   ]
  },
  {
   "cell_type": "code",
   "execution_count": null,
   "id": "80305451-1911-4946-89ed-33821567766f",
   "metadata": {
    "id": "ea6a12c4-1360-4bfe-a05f-4098604926bc"
   },
   "outputs": [
    {
     "name": "stdout",
     "output_type": "stream",
     "text": [
      "\n",
      "1. Lihat Daftar Operasi Matematika\n",
      "2. Lihat Daftar dan lakukan Operasi\n",
      "3. Keluar\n",
      "--------------Daftar Operasi Matematika:--------------\n",
      "1. deret_geometri\n",
      "2. factorial\n",
      "3. fibonacci\n",
      "4. isPowerOf\n",
      "----------------------- END --------------------------\n",
      "\n",
      "1. Lihat Daftar Operasi Matematika\n",
      "2. Lihat Daftar dan lakukan Operasi\n",
      "3. Keluar\n",
      "--------------Daftar Operasi Matematika:--------------\n",
      "1. deret_geometri\n",
      "2. factorial\n",
      "3. fibonacci\n",
      "4. isPowerOf\n",
      "----------------------- END --------------------------\n",
      "Jumlah deret geometri dengan nilai awal 2, rasio 4, dan jumlah suku 5 adalah 20\n",
      "\n",
      "1. Lihat Daftar Operasi Matematika\n",
      "2. Lihat Daftar dan lakukan Operasi\n",
      "3. Keluar\n",
      "--------------Daftar Operasi Matematika:--------------\n",
      "1. deret_geometri\n",
      "2. factorial\n",
      "3. fibonacci\n",
      "4. isPowerOf\n",
      "----------------------- END --------------------------\n",
      "Nilai 5! adalah 120\n",
      "\n",
      "1. Lihat Daftar Operasi Matematika\n",
      "2. Lihat Daftar dan lakukan Operasi\n",
      "3. Keluar\n",
      "--------------Daftar Operasi Matematika:--------------\n",
      "1. deret_geometri\n",
      "2. factorial\n",
      "3. fibonacci\n",
      "4. isPowerOf\n",
      "----------------------- END --------------------------\n",
      "Nilai fibonacci ke-10 adalah 55\n",
      "\n",
      "1. Lihat Daftar Operasi Matematika\n",
      "2. Lihat Daftar dan lakukan Operasi\n",
      "3. Keluar\n",
      "--------------Daftar Operasi Matematika:--------------\n",
      "1. deret_geometri\n",
      "2. factorial\n",
      "3. fibonacci\n",
      "4. isPowerOf\n",
      "----------------------- END --------------------------\n",
      "Apakah 16 pangkat 2 adalah True\n",
      "\n",
      "1. Lihat Daftar Operasi Matematika\n",
      "2. Lihat Daftar dan lakukan Operasi\n",
      "3. Keluar\n",
      "Terima kasih telah menggunakan program ini\n"
     ]
    }
   ],
   "source": [
    "# Ketikan Code Disini lalu Jalankan (Run)\n",
    "import myModule.mathRecursive as mathRecursive\n",
    "# import file myModule/mathRecursive.py sebagai mathRecursive\n",
    "# direktori saya \n",
    "# myModule\n",
    "#     mathRecursive.py (ini yang diimport)\n",
    "#     konversi.py\n",
    "#     tabung.py\n",
    "#     aritmatika.py\n",
    "\n",
    "# Fungsi untuk memfilter nama file yang diawali dengan \"__\"\n",
    "def filterDir(dir):\n",
    "    return list(filter(lambda item: not item.startswith(\"__\"), dir)) \n",
    "    # fungsi startwith digunakan untuk mengecek apakah nama file diawali dengan \"__\" jika iya maka akan di filter atau di hapus\n",
    "    # mengapa \"__\" dihapus? karena biasanya nama file yang diawali dengan \"__\" adalah file yang bersifat private atau tidak bisa diakses dari luar\n",
    "\n",
    "# Mengambil daftar nama fungsi dari modul mathRecursive\n",
    "listFunction = filterDir(dir(mathRecursive))\n",
    "\n",
    "def daftar_operasi():\n",
    "    \"\"\"Menampilkan daftar operasi matematika yang tersedia\"\"\"\n",
    "    print(\"--------------Daftar Operasi Matematika:--------------\")\n",
    "    for i in range(len(listFunction)):\n",
    "        print(f\"{i+1}. {listFunction[i]}\")\n",
    "    print(\"----------------------- END --------------------------\")\n",
    "    \n",
    "def oprasi_deret_geometri():\n",
    "    a = int(input(\"Masukkan nilai awal (a): \"))\n",
    "    r = int(input(\"Masukkan rasio (r): \"))\n",
    "    n = int(input(\"Masukkan jumlah suku (n): \"))\n",
    "    print(f\"Jumlah deret geometri dengan nilai awal {a}, rasio {r}, dan jumlah suku {n} adalah {mathRecursive.deret_geometri(a, r, n)}\")\n",
    "\n",
    "def oprasi_factorial():\n",
    "    n = int(input(\"Masukkan nilai n: \"))\n",
    "    print(f\"Nilai {n}! adalah {mathRecursive.factorial(n)}\")\n",
    "\n",
    "def oprasi_fibonacci():\n",
    "    n = int(input(\"Masukkan nilai n: \"))\n",
    "    print(f\"Nilai fibonacci ke-{n} adalah {mathRecursive.fibonacci(n)}\")\n",
    "\n",
    "# untuk oprasi isPowerOf\n",
    "def oprasi_isPowerOf():\n",
    "    n = int(input(\"Masukkan nilai n: \"))\n",
    "    exp = int(input(\"Masukkan nilai eksponen: \"))\n",
    "    print(f\"Apakah {n} pangkat {exp} adalah {mathRecursive.isPowerOf(n, exp)}\")\n",
    "\n",
    "\n",
    "# Program utama\n",
    "while(True):\n",
    "    # Menampilkan menu\n",
    "    print(\"\\n1. Lihat Daftar Operasi Matematika\")\n",
    "    print(\"2. Lihat Daftar dan lakukan Operasi\")\n",
    "    print(\"3. Keluar\")\n",
    "    choice = int(input(\"Pilihan anda: \"))  # Input pilihan menu\n",
    "\n",
    "    if choice == 1:\n",
    "        daftar_operasi()  # Menampilkan daftar operasi matematika\n",
    "    elif choice == 2:\n",
    "        daftar_operasi()  # Menampilkan daftar operasi matematika\n",
    "        while True:\n",
    "            opration = input(\"Pilih operasi yang akan dilakukan: \").lower()  # Input pilihan operasi dan diubah ke huruf kecil\n",
    "\n",
    "            # Memilih operasi yang akan dilakukan\n",
    "            if opration in [\"1\",\"deret_gemoetri\", \"deret geometri\"]:\n",
    "                oprasi_deret_geometri() # panggil fungsi untuk menghitung melakukan operasi deret geometri\n",
    "                break # keluar dari loop \n",
    "            elif opration in [\"2\", \"factorial\"]:\n",
    "                oprasi_factorial() # panggil fungsi untuk menghitung melakukan operasi factorial\n",
    "                break\n",
    "            elif opration in [\"3\", \"fibonacci\"]:\n",
    "                oprasi_fibonacci() # panggil fungsi untuk menghitung melakukan opera2si fibonacci\n",
    "                break\n",
    "            elif opration in [\"4\", \"ispowerof\"]:\n",
    "                oprasi_isPowerOf() # panggil fungsi untuk menghitung melakukan operasi isPowerOf\n",
    "                break\n",
    "            else:\n",
    "                print(f\"Operasi {opration} tidak valid. silahkan cobalagi\") # jika input user salah\n",
    "                continue # lanjut ke iterasi selanjutnya karena input user salah\n",
    "\n",
    "    elif choice == 3:\n",
    "        print(\"Terima kasih telah menggunakan program ini\")\n",
    "        break"
   ]
  },
  {
   "cell_type": "markdown",
   "id": "93cdda36-f71b-4995-a92f-b5682f5246f6",
   "metadata": {},
   "source": [
    "# Jelaskan  Kesimpulan dari Pertemuan kali ini Dengan Format Markdown, Min.3 Baris\n",
    "# Note: nilai plus buat yang masukkan gambar, visualisasi penjelasan, dan table penjelasan\n",
    "\n",
    "# Kesimpulan\n",
    "modularisasi adalah adalah cara untuk mengelompokan, dan meorganisasi kode agar mudah untuk melakukan pemeliharaan pada saat masamendatang\n",
    "\n",
    "selai itu, dengan modularisasi kita bisa menggunkan Library yg telah di buat oleh oranglain dangan mudah,dengan mendownload library \n",
    "\n",
    "contoh kita bisa melakukan scraping data dengan mudah dengan menggunkan library `beautifulsoup4`. `pip install beautifulsoup4` untuk mendownload library nya setelah itu kita bisa menggunakannya dengan `from bs4 import BeautifulSoup` dimana `bs` adalah module dan `BeautifulSoup` adalah class yang digunakan untuk memparsing HTML atau XML.\n",
    "\n"
   ]
  }
 ],
 "metadata": {
  "colab": {
   "provenance": []
  },
  "kernelspec": {
   "display_name": "Python 3",
   "language": "python",
   "name": "python3"
  },
  "language_info": {
   "codemirror_mode": {
    "name": "ipython",
    "version": 3
   },
   "file_extension": ".py",
   "mimetype": "text/x-python",
   "name": "python",
   "nbconvert_exporter": "python",
   "pygments_lexer": "ipython3",
   "version": "3.12.7"
  },
  "widgets": {
   "application/vnd.jupyter.widget-state+json": {
    "state": {},
    "version_major": 2,
    "version_minor": 0
   }
  }
 },
 "nbformat": 4,
 "nbformat_minor": 5
}
