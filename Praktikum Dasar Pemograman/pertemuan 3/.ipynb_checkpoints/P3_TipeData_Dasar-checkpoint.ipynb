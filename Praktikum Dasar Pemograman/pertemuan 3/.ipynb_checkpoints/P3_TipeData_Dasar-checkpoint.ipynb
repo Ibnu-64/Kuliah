{
 "cells": [
  {
   "cell_type": "markdown",
   "id": "b3450a5a-c882-48e6-8aae-8be59018aedb",
   "metadata": {
    "id": "b3450a5a-c882-48e6-8aae-8be59018aedb"
   },
   "source": [
    "# Pertemuan 3: Tipe Data Dasar\n",
    "\n",
    "Pada pertemuan ini, kita akan membahas beberapa tipe data dasar yang sering digunakan dalam pemrograman Python. Di antaranya adalah:\n",
    "\n",
    "1. **Tipe Data Numerik**: `int`, `float`, `complex`\n",
    "2. **Fungsi pada Data Numerik**: fungsi bawaan Python seperti `abs()`, `pow()`, `round()`, dll.\n",
    "3. **Tipe Data String**: Tipe data untuk menyimpan teks\n",
    "4. **Method pada String**: Method yang dapat digunakan pada string seperti `.lower()`, `.upper()`, `.replace()`, dll.\n",
    "5. **String Formatting**: Format string menggunakan `f-string`, `.format()`\n",
    "6. **Type Casting**: Mengubah tipe data dari satu tipe ke tipe lainnya\n",
    "Berikut adalah penjabaran materi pertemuan 3 dalam format tabel, yang mencakup **Tipe Data Numerik**, **Fungsi pada Data Numerik**, **Tipe Data String**, **Method String**, **String Formatting**, dan **Type Casting**.\n",
    "\n",
    "| **Materi**            | **Penjelasan**                                                                                                                                                      | **Contoh**                                                                                                                                                 |\n",
    "|-----------------------|---------------------------------------------------------------------------------------------------------------------------------------------------------------------|------------------------------------------------------------------------------------------------------------------------------------------------------------|\n",
    "| **Tipe Data Numerik**  | Tipe data untuk menyimpan nilai numerik dalam Python, seperti `int` (bilangan bulat), `float` (bilangan desimal), dan `complex` (bilangan kompleks).                  | ```python angka1 = 5  # int angka2 = 3.14  # float angka3 = 2 + 3j  # complex ```                                                                           |\n",
    "| **Fungsi pada Data Numerik** | Fungsi bawaan Python untuk mengoperasikan angka seperti `abs()`, `pow()`, `round()`, dll.                                                                       | ```python abs(-10)  # Hasil: 10 pow(2, 3)  # Hasil: 8 round(3.14159, 2)  # Hasil: 3.14 ```                                                                  |\n",
    "| **Tipe Data String**   | Tipe data yang menyimpan teks atau karakter. String biasanya diapit oleh tanda kutip tunggal (`'...'`) atau ganda (`\"...\"`).                                         | ```python teks = \"Hello World!\" ```                                                                                                                         |\n",
    "| **Method String**      | Fungsi yang dapat digunakan pada tipe data string seperti `lower()`, `upper()`, `title()`, dan `replace()`.                                                          | ```python teks.lower()  # Hasil: \"hello world\" teks.upper()  # Hasil: \"HELLO WORLD\" teks.title()  # Hasil: \"Hello World\" ```                                 |\n",
    "| **String Formatting**  | Teknik untuk menyisipkan variabel atau nilai ke dalam string. Python menyediakan beberapa metode, termasuk `f-string` dan `.format()`.                                | ```python nama = \"Aisyah\" umur = 21 print(f\"Halo, {nama}! Usia Anda {umur} tahun.\") print(\"Halo, {}! Usia Anda {} tahun.\".format(nama, umur)) ```           |\n",
    "| **Type Casting**       | Mengubah tipe data dari satu tipe ke tipe lainnya. Fungsi umum termasuk `int()`, `float()`, dan `str()`.                                                             | ```python angka = \"10\"  # string angka_numerik = int(angka)  # mengubah string ke integer ```                                                               |\n",
    "\n",
    "### Tipe Data Numerik\n",
    "\n",
    "| **Tipe Data** | **Penjelasan**                                | **Contoh**       |\n",
    "|---------------|-----------------------------------------------|------------------|\n",
    "| `int`         | Bilangan bulat                                | `x = 10`         |\n",
    "| `float`       | Bilangan desimal                              | `x = 10.5`       |\n",
    "| `complex`     | Bilangan kompleks (memiliki bagian imajiner)  | `x = 2 + 3j`     |\n",
    "\n",
    "### Fungsi pada Data Numerik\n",
    "\n",
    "| **Fungsi**    | **Penjelasan**                                | **Contoh**                                |\n",
    "|---------------|-----------------------------------------------|-------------------------------------------|\n",
    "| `abs(x)`      | Mengembalikan nilai absolut dari x             | `abs(-10)` hasil: `10`                    |\n",
    "| `pow(x, y)`   | Mengembalikan hasil pangkat x^y                | `pow(2, 3)` hasil: `8`                    |\n",
    "| `round(x, n)` | Membulatkan angka x ke n digit desimal         | `round(3.14159, 2)` hasil: `3.14`         |\n",
    "\n",
    "### Tipe Data String\n",
    "\n",
    "| **Tipe Data** | **Penjelasan**                                | **Contoh**        |\n",
    "|---------------|-----------------------------------------------|-------------------|\n",
    "| `str`         | Tipe data untuk menyimpan teks atau karakter  | `x = \"Hello\"`     |\n",
    "\n",
    "### Method pada String\n",
    "\n",
    "| **Method**    | **Penjelasan**                                | **Contoh**                                  |\n",
    "|---------------|-----------------------------------------------|---------------------------------------------|\n",
    "| `upper()`     | Mengubah semua karakter string menjadi huruf besar | `\"hello\".upper()` hasil: `\"HELLO\"`          |\n",
    "| `lower()`     | Mengubah semua karakter string menjadi huruf kecil | `\"HELLO\".lower()` hasil: `\"hello\"`          |\n",
    "| `title()`     | Mengubah huruf pertama dari setiap kata menjadi huruf kapital | `\"hello world\".title()` hasil: `\"Hello World\"` |\n",
    "| `replace(a, b)`| Mengganti karakter atau substring a dengan b | `\"hello\".replace(\"h\", \"j\")` hasil: `\"jello\"`|\n",
    "\n",
    "### String Formatting\n",
    "\n",
    "| **Metode**    | **Penjelasan**                                | **Contoh**                                                                 |\n",
    "|---------------|-----------------------------------------------|----------------------------------------------------------------------------|\n",
    "| `f-string`    | Menggunakan string literal yang mendukung ekspresi di dalam `{}` | `f\"Nama saya {nama}, umur saya {umur}.\"`                                   |\n",
    "| `.format()`   | Memformat string dengan menyisipkan variabel di dalam placeholder `{}` | `\"Nama saya {}, umur saya {}.\".format(nama, umur)`                         |\n",
    "\n",
    "### Type Casting (Konversi Tipe Data)\n",
    "\n",
    "| **Fungsi**    | **Penjelasan**                                | **Contoh**                                |\n",
    "|---------------|-----------------------------------------------|-------------------------------------------|\n",
    "| `int(x)`      | Mengubah x menjadi integer                    | `int(\"10\")` hasil: `10`                  |\n",
    "| `float(x)`    | Mengubah x menjadi float                      | `float(\"10.5\")` hasil: `10.5`            |\n",
    "| `str(x)`      | Mengubah x menjadi string                     | `str(10)` hasil: `\"10\"`                  |\n",
    "\n",
    "### Contoh Soal\n",
    "\n",
    "1. **Tipe Data Numerik:**\n",
    "   Buatlah program yang menerima dua input angka, lalu hitung penjumlahan, pengurangan, perkalian, dan pembagian.\n",
    "\n",
    "2. **Fungsi pada Data Numerik:**\n",
    "   Gunakan fungsi `pow()`, `abs()`, dan `round()` untuk mengolah data numerik.\n",
    "\n",
    "3. **Tipe Data String dan Method String:**\n",
    "   Buat program yang meminta nama pengguna lalu ubah menjadi huruf besar, kecil, dan kapital pada setiap kata.\n",
    "\n",
    "4. **String Formatting:**\n",
    "   Gunakan `f-string` dan `.format()` untuk menampilkan informasi nama dan usia.\n",
    "\n",
    "5. **Type Casting:**\n",
    "   Minta input angka dalam bentuk string, lalu ubah ke tipe numerik (`int` atau `float`) dan tampilkan hasil konversinya.\n",
    "---\n",
    "\n",
    "**Catatan:** Pastikan Anda memahami tiap materi sebelum mengerjakan soal. Gunakan dokumentasi Python jika diperlukan."
   ]
  },
  {
   "attachments": {},
   "cell_type": "markdown",
   "id": "e989c82b-4c5e-4eaf-9152-4a4c9a494b65",
   "metadata": {},
   "source": [
    "## Soal 1: Operasi Aritmatika pada Tipe Data Numerik\n",
    "\n",
    "### Contoh Program yang Salah:\n",
    "<img src=\"Screenshot (1).png\" alt=\"Deskripsi Gambar\" width=\"550\" style=\"margin-left: 30px;\" />\n",
    "\n",
    "\n",
    "### Tugas Anda:\n",
    "1. **Perbaiki** kesalahan program di atas. Beberapa kesalahan yang harus diperbaiki antara lain:\n",
    "   - Kesalahan nama variabel (`angka1` seharusnya `angka_1`).\n",
    "   - Kesalahan operator pembagian (gunakan `/` untuk pembagian float, bukan `//`).\n",
    "   - Perbaiki format string pada `print()` agar hasil operasi benar-benar ditampilkan.\n",
    "   - Pastikan hasil pembagian dibulatkan dengan benar.\n",
    "\n",
    "2. Gunakan dua angka dari 3 digit terakhir NIM Anda sebagai input untuk menjalankan program.\n",
    "\n",
    "3. Program yang telah diperbaiki harus:\n",
    "   - Menampilkan hasil penjumlahan, pengurangan, perkalian, dan pembagian dari kedua angka.\n",
    "   - Menampilkan hasil pemangkatan angka pertama terhadap angka kedua.\n",
    "   - Menghitung nilai maksimum dan minimum dari kedua angka.\n",
    "   - Membulatkan hasil pembagian ke dua angka di belakang koma.\n",
    "4. Jelaskan Program yang anda perbaiki"
   ]
  },
  {
   "cell_type": "code",
   "execution_count": 64,
   "id": "b4beb5da-51a9-47ff-a732-d6cf9247ae74",
   "metadata": {
    "id": "ea6a12c4-1360-4bfe-a05f-4098604926bc"
   },
   "outputs": [
    {
     "name": "stdin",
     "output_type": "stream",
     "text": [
      "masukan angka pertama: 7\n",
      "masukan angka kedua: 3\n"
     ]
    },
    {
     "name": "stdout",
     "output_type": "stream",
     "text": [
      "Hasil penjumlahan: 10.0\n",
      "Hasil pengurangan: 4.0\n",
      "Hasil Perkalian: 21.0\n",
      "Hasil Pembagian: 2.3333333333333335\n",
      "Hasil pangkat: 343.0\n",
      "Nilai Maksimum: 7.0\n",
      "Nilai Minimum: 3.0\n",
      "Pembagian (dibulatkan 2 angka): 2.33\n"
     ]
    }
   ],
   "source": [
    "# Ketikan Code Disini lalu Jalankan (Run)\n",
    "\n",
    "#input user\n",
    "angka_1 = float(input(\"masukan angka pertama:\"))\n",
    "angka_2 = float(input(\"masukan angka kedua:\"))\n",
    "\n",
    "#oprasi aritmatika\n",
    "penjumlahan = angka_1 + angka_2\n",
    "pengurangan = angka_1 - angka_2\n",
    "perkalian = angka_1 * angka_2\n",
    "pembagian = angka_1 / angka_2\n",
    "pangkat = angka_1 ** angka_2\n",
    "\n",
    "\n",
    "#oprasi lainya\n",
    "maximum = max(angka_1,angka_2)\n",
    "minimum = min(angka_1,angka_2)\n",
    "pembagian_rounded = round(pembagian,2)\n",
    "\n",
    "#Output hasil operasi\n",
    "print(f\"Hasil penjumlahan: {penjumlahan}\")\n",
    "print(f\"Hasil pengurangan: {pengurangan}\")\n",
    "print(f\"Hasil Perkalian: {perkalian}\")\n",
    "print(f\"Hasil Pembagian: {pembagian}\")\n",
    "print(f\"Hasil pangkat: {pangkat}\")\n",
    "print(f\"Nilai Maksimum: {maximum}\")\n",
    "print(f\"Nilai Minimum: {minimum}\")\n",
    "print(f\"Pembagian (dibulatkan 2 angka): {pembagian_rounded}\")\n",
    "\n"
   ]
  },
  {
   "cell_type": "markdown",
   "id": "126114d3-7b1b-4ede-8f85-cc0774d52ca1",
   "metadata": {},
   "source": [
    "### Penjelasaan Perbaikan Code\n",
    "\n",
    "\n",
    "1. **Perbaikan pada pemanggilan identifier Variabel**\n",
    "   1. pemanggilan variabel `angka1` dan `angka2` yang salah karena kurang underscore.\n",
    "   2. typo pada pemanggilan variabel `maksimum` untuk memunculakan output dari `maximum = max()`.\n",
    "   3. salah pada  pemanggilan variabel `pembagian_bilanganBulat` yg seharusnya `pembagian_rounded`.\n",
    "3. **Salah Operator pemagian**\n",
    "    1. Kesalahan pada operator variabel pembagian. karena kita ingin membagi dua angka seharunya tidak menggunkan `//` karena operator floor akan membulatkan ke bawah hasil pembagian nya. oleh karena itu kita wajib menggantinya dengan operator pembagian `/`\n",
    "5. **Kesalahan pada f-string**\n",
    "   1. kurang nya `f` pada `print(\"{}\")` yang seharunya seperti ini `print(f\"{}\")`"
   ]
  },
  {
   "cell_type": "markdown",
   "id": "28e24639-72f7-4d78-8169-b805c5bee744",
   "metadata": {},
   "source": [
    "## Soal 2: Fungsi pada Data Numerik\n",
    "\n",
    "### Contoh Program yang Salah:\n",
    "<img src=\"Screenshot (2).png\" alt=\"Deskripsi Gambar\" width=\"450\" style=\"margin-left: 30px;\" />\n",
    "\n",
    "\n",
    "### Tugas Anda:\n",
    "1. **Perbaiki** kesalahan program di atas. Anda harus menginisialisasi nilai `angka1` dan `angka2` menggunakan input dari pengguna (seperti yang telah dijelaskan pada soal sebelumnya).\n",
    "2. Gunakan dua angka dari 3 digit terakhir NIM Anda sebagai input untuk menjalankan program.\n",
    "3. Gunakan fungsi bawaan Python:\n",
    "   - Gunakan `pow(angka1, angka2)` untuk menghitung hasil pemangkatan.\n",
    "   - Gunakan `abs(angka1)` untuk menghitung nilai absolut dari angka pertama.\n",
    "   - Gunakan `round(angka2, 2)` untuk membulatkan angka kedua hingga dua angka di belakang koma.\n",
    "   \n",
    "4. **Tampilkan hasilnya** dalam format yang sesuai.\n",
    "5. Jelaskan Program yang anda perbaiki\n",
    "\n",
    "### Contoh Input:\n",
    "```\n",
    "Masukkan angka pertama: -5.67\n",
    "Masukkan angka kedua: 3.14159\n",
    "```\n",
    "\n",
    "### Contoh Output:\n",
    "```\n",
    "Hasil Pangkat: -181.85835692800002\n",
    "Nilai Absolut: 5.67\n",
    "Hasil Pembulatan: 3.14\n",
    "```\n",
    "\n",
    "### Penjelasan:\n",
    "1. **Input**: Program akan meminta dua angka dari pengguna.\n",
    "2. **pow(angka1, angka2)**: Fungsi ini menghitung angka1 pangkat angka2.\n",
    "3. **abs(angka1)**: Fungsi ini menghitung nilai absolut (nilai positif) dari angka pertama.\n",
    "4. **round(angka2, 2)**: Fungsi ini membulatkan angka kedua hingga dua angka di belakang koma.\n",
    "```"
   ]
  },
  {
   "cell_type": "code",
   "execution_count": 75,
   "id": "b3f87cea-e50a-46fd-820f-bc12703db8da",
   "metadata": {
    "id": "ea6a12c4-1360-4bfe-a05f-4098604926bc"
   },
   "outputs": [
    {
     "name": "stdin",
     "output_type": "stream",
     "text": [
      "masukan angka pertama:  -5.67\n",
      "masukan angka kedua:  3.14159\n"
     ]
    },
    {
     "name": "stdout",
     "output_type": "stream",
     "text": [
      "Hasil Pangkat: (-210.37160859130915-100.27992055263229j)\n",
      "Nilai Absolut: 5.67\n",
      "Hasil Pembulatan: 3.14\n"
     ]
    }
   ],
   "source": [
    "# Ketikan Code Disini lalu Jalankan (Run)\n",
    "# Jawaban Soal 2 (Program yang Perlu Diperbaiki)\n",
    "angka_1 = float(input(\"masukan angka pertama: \"))\n",
    "angka_2 = float(input(\"masukan angka kedua: \"))\n",
    "# Menghitung pangkat\n",
    "hasil_pangkat = pow(angka_1, angka_2)\n",
    "\n",
    "# Menghitung nilai absolut\n",
    "nilai_absolut = abs(angka_1)\n",
    "\n",
    "# Membulatkan angka kedua hingga dua desimal\n",
    "pembulatan = round(angka_2, 2)\n",
    "\n",
    "# Output hasil\n",
    "print(f\"Hasil Pangkat: {hasil_pangkat}\")\n",
    "print(f\"Nilai Absolut: {nilai_absolut}\")\n",
    "print(f\"Hasil Pembulatan: {pembulatan}\")"
   ]
  },
  {
   "cell_type": "markdown",
   "id": "012e7850-36a7-4c0c-9d34-63262be88b2f",
   "metadata": {},
   "source": [
    "### Penjelasaan Perbaikan Code\n",
    "\n",
    "\n",
    "1. medeklarasikan dua variabel yaitu `angka_1` dan `angka_2` untuk menggambil input dari user setelah itu mengkonfersi data ke type data float\n",
    "2. menambahkan underscore pada pemanggilan variabel dari `angka1` dan `angka2` menjadi `angka_1` dan `angka_2` agar variabel mudah di baca\n"
   ]
  },
  {
   "cell_type": "markdown",
   "id": "04451d75-fd5c-418f-b2b3-bfe3ca35497d",
   "metadata": {},
   "source": [
    "## Soal 3: Tipe Data String dan Method String\n",
    "\n",
    "### Tugas Anda:\n",
    "Buatlah program yang:\n",
    "1. Meminta input nama lengkap dari pengguna.\n",
    "2. Mengubah nama lengkap tersebut menjadi:\n",
    "   - Huruf kapital semua (`upper()`).\n",
    "   - Huruf kecil semua (`lower()`).\n",
    "   - Huruf kapital di setiap awal kata (`title()`).\n",
    "3. Hitung berapa banyak karakter yang ada di nama lengkap pengguna (termasuk spasi) menggunakan fungsi `len()`.\n",
    "\n",
    "### Contoh Input:\n",
    "```\n",
    "Masukkan nama lengkap Anda: Budi Prasetyo\n",
    "```\n",
    "\n",
    "### Contoh Output:\n",
    "```\n",
    "Nama dalam huruf kapital: BUDI PRASETYO\n",
    "Nama dalam huruf kecil: budi prasetyo\n",
    "Nama dengan huruf kapital di setiap kata: Budi Prasetyo\n",
    "Jumlah karakter dalam nama: 12\n",
    "```\n",
    "\n",
    "### Penjelasan:\n",
    "1. **Input**: Program akan meminta pengguna untuk memasukkan nama lengkap.\n",
    "2. **Mengubah huruf kapital/kecil**:\n",
    "   - Gunakan `upper()` untuk mengubah semua huruf menjadi huruf kapital.\n",
    "   - Gunakan `lower()` untuk mengubah semua huruf menjadi huruf kecil.\n",
    "   - Gunakan `title()` untuk mengubah setiap kata menjadi huruf kapital pada huruf pertama.\n",
    "3. **Menghitung jumlah karakter**: Gunakan fungsi `len()` untuk menghitung jumlah karakter termasuk spasi.\n",
    "```"
   ]
  },
  {
   "cell_type": "code",
   "execution_count": 83,
   "id": "75357d06-3bb8-4b42-94cf-f4b2be24a792",
   "metadata": {
    "id": "ea6a12c4-1360-4bfe-a05f-4098604926bc"
   },
   "outputs": [
    {
     "name": "stdin",
     "output_type": "stream",
     "text": [
      "Nama:  IbNu SHbill al ZaHari\n"
     ]
    },
    {
     "name": "stdout",
     "output_type": "stream",
     "text": [
      " nama default yg belum di ubah = IbNu SHbill al ZaHari\n",
      " nama yg sudah di ubah ke huruf kapital = IBNU SHBILL AL ZAHARI\n",
      " nama yg sudah di ubah ke huruf kecil = ibnu shbill al zahari\n",
      " nama yg sudah di ubah ke huruf besar pada setiap katanya = Ibnu Shbill Al Zahari\n",
      " Panjang string = 21\n"
     ]
    }
   ],
   "source": [
    "# Ketikan Code Disini lalu Jalankan (Run)\n",
    "#Minta input nama dari user dengan type data string\n",
    "namaUser = str(input(\"Nama: \"))\n",
    "\n",
    "# mengubah semua data string menjadi huruf kapital.\n",
    "toKapital = namaUser.upper()\n",
    "# mengubah semua data string menjadi huruf kecil.\n",
    "toKecil = namaUser.lower()\n",
    "# mengubah setiap kata menjadi huruf kapital pada huruf pertama.\n",
    "toTitle= namaUser.title()\n",
    "\n",
    "lengthString = len(namaUser)\n",
    "\n",
    "print(f\" nama default yg belum di ubah = {namaUser}\")\n",
    "print(f\" nama yg sudah di ubah ke huruf kapital = {toKapital}\")\n",
    "print(f\" nama yg sudah di ubah ke huruf kecil = {toKecil}\")\n",
    "print(f\" nama yg sudah di ubah ke huruf besar pada setiap katanya = {toTitle}\")\n",
    "print(f\" Panjang string = {lengthString}\")\n"
   ]
  },
  {
   "cell_type": "markdown",
   "id": "2b0246ff-584f-4484-b52d-18733bcde7ae",
   "metadata": {},
   "source": [
    "## Soal 4: Formatting String\n",
    "\n",
    "### Tugas Anda:\n",
    "Buatlah program yang:\n",
    "1. Meminta input nama nim dan umur dari pengguna.\n",
    "2. Menampilkan kalimat berikut menggunakan **dua metode string formatting**:\n",
    "   - \"Assalamualaikum, Hai. Nama ulun [Nama] dengan NIM [NIM]! Usia saya adalah [Umur] tahun.\"\n",
    "3. Jelaskan code anda.\n",
    "### Dua metode string formatting yang harus digunakan:\n",
    "1. **f-string**: Cara yang lebih modern dan mudah dibaca untuk memformat string.\n",
    "2. **.format()**: Cara yang lebih lama tetapi tetap sering digunakan untuk memformat string.\n",
    "\n",
    "### Contoh Input:\n",
    "```\n",
    "Masukkan nama Anda: Ahmad\n",
    "Masukkan NIM Anda: 211112123123\n",
    "Masukkan umur Anda: 21\n",
    "```\n",
    "\n",
    "### Contoh Output:\n",
    "```\n",
    "Assalamualaikum, Hai. Nama ulun Ahmad dengan NIM 211112123123! Usia saya adalah 21 tahun.  # menggunakan f-string\n",
    "Assalamualaikum, Hai. Nama ulun Ahmad dengan NIM 211112123123! Usia saya adalah 21 tahun.  # menggunakan .format()\n",
    "```\n",
    "\n",
    "### Penjelasan Jawaban:\n",
    "- **f-string**: String yang dimulai dengan `f` di depan kutip, memungkinkan kita untuk langsung menyisipkan variabel ke dalam string menggunakan kurung kurawal `{}`.\n",
    "- **.format()**: Metode `format()` menggunakan placeholder `{}` dalam string, dan variabel dimasukkan ke dalam placeholder sesuai urutan yang ditentukan dalam `format()`."
   ]
  },
  {
   "cell_type": "code",
   "execution_count": 88,
   "id": "a61ed888-46f5-4412-bffe-22824dc41f1e",
   "metadata": {
    "id": "ea6a12c4-1360-4bfe-a05f-4098604926bc"
   },
   "outputs": [
    {
     "name": "stdin",
     "output_type": "stream",
     "text": [
      "Nama:  Ibnu Shabill Al Zahari\n",
      "NIM:  2411102441264\n",
      "Umur:  18\n"
     ]
    },
    {
     "name": "stdout",
     "output_type": "stream",
     "text": [
      "\n",
      "dengan format f-string:\n",
      "Assalamualaikum, Hai. Nama ulun [Ibnu Shabill Al Zahari] dengan NIM [2411102441264]! Usia saya adalah [18] tahun.\n",
      "\n",
      "dengan format .format():\n",
      "Assalamualaikum, Hai. Nama ulun [Ibnu Shabill Al Zahari] dengan NIM [2411102441264]! Usia saya adalah [18] tahun.\n",
      "\n",
      "\n"
     ]
    }
   ],
   "source": [
    "# Ketikan Code Disini lalu Jalankan (Run)\n",
    "\n",
    "\n",
    "nama = str(input(\"Nama: \")) # Minta data nama dari user dengan type data string\n",
    "nim = int(input(\"NIM: \")) # Minta data nim dari user dengan type data int\n",
    "umur = int(input(\"Umur: \"))# Minta data umur dari user dengan type data int\n",
    "\n",
    "# dengan format f-string\n",
    "f_string = f\"Assalamualaikum, Hai. Nama ulun [{nama}] dengan NIM [{nim}]! Usia saya adalah [{umur}] tahun.\"\n",
    "# dengan format .format()\n",
    "format = \"Assalamualaikum, Hai. Nama ulun [{}] dengan NIM [{}]! Usia saya adalah [{}] tahun.\".format(nama,nim, umur)\n",
    "\n",
    "print(f\"\"\"\n",
    "dengan format f-string:\n",
    "{f_string}\n",
    "\n",
    "dengan format .format():\n",
    "{format}\n",
    "\n",
    "\"\"\")\n",
    "\n"
   ]
  },
  {
   "cell_type": "markdown",
   "id": "027609a3-346c-4999-a485-772128a8bb6a",
   "metadata": {},
   "source": [
    "## Soal 5: Type Casting\n",
    "\n",
    "### Program yang Harus diperbaiki:\n",
    "<img src=\"Screenshot (3).png\" alt=\"Deskripsi Gambar\" width=\"450\" style=\"margin-left: 30px;\" />\n",
    "\n",
    "### Tugas Anda:\n",
    "Buatlah program yang:\n",
    "1. Perbaiki Program diatas.\n",
    "2. Meminta input sebuah angka dalam bentuk string dari pengguna.\n",
    "3. Menampilkan tipe data dari input sebelum diubah.\n",
    "4. Mengubah string tersebut menjadi tipe data numerik (`int` atau `float`), dan menampilkan tipe data setelah diubah.\n",
    "5. Jelaskan Program yang telah anda perbaiki!\n",
    "\n",
    "### Contoh Input:\n",
    "```\n",
    "Masukkan sebuah angka: 45.67\n",
    "```\n",
    "\n",
    "### Contoh Output:\n",
    "```\n",
    "Tipe data sebelum diubah: <class 'str'>\n",
    "Tipe data setelah diubah: <class 'float'>\n",
    "Angka setelah diubah: 45.67\n",
    "```\n",
    "\n",
    "### Penjelasan Jawaban:\n",
    "- **Input sebagai string**: Saat pengguna memasukkan angka melalui fungsi `input()`, angka tersebut dianggap sebagai string.\n",
    "- **Type Casting ke float**: String diubah menjadi tipe data `float` menggunakan `float()`.\n",
    "- **Menampilkan tipe data**: Fungsi `type()` digunakan untuk menampilkan tipe data sebelum dan setelah diubah.\n",
    "- **Output angka**: Selain menampilkan tipe datanya, angka yang sudah diubah juga ditampilkan.\n"
   ]
  },
  {
   "cell_type": "code",
   "execution_count": 98,
   "id": "ea6a12c4-1360-4bfe-a05f-4098604926bc",
   "metadata": {
    "id": "ea6a12c4-1360-4bfe-a05f-4098604926bc"
   },
   "outputs": [
    {
     "name": "stdin",
     "output_type": "stream",
     "text": [
      "Masukkan sebuah angka:  34\n"
     ]
    },
    {
     "name": "stdout",
     "output_type": "stream",
     "text": [
      "Tipe data sebelum diubah: <class 'str'>\n",
      "Tipe data setelah diubah: <class 'float'>\n",
      "Angka setelah diubah: 34.0\n"
     ]
    }
   ],
   "source": [
    "# Ketikan Code Disini lalu Jalankan (Run)\n",
    "# Jawaban Soal 5\n",
    "\n",
    "# Input angka dalam bentuk string\n",
    "angkaString = input(\"Masukkan sebuah angka: \")\n",
    "\n",
    "# Menampilkan tipe data sebelum diubah\n",
    "print(f\"Tipe data sebelum diubah: {type(angkaString)}\")\n",
    "\n",
    "# Mengubah menjadi tipe data numerik (float)\n",
    "angkaNumerik = float(angkaString)\n",
    "\n",
    "# Menampilkan tipe data setelah diubah\n",
    "print(f\"Tipe data setelah diubah: {type(angkaNumerik)}\")\n",
    "print(f\"Angka setelah diubah: {angkaNumerik}\")"
   ]
  },
  {
   "cell_type": "code",
   "execution_count": 132,
   "id": "b54abe5c-314e-4f9a-8af8-5f3a371bd786",
   "metadata": {},
   "outputs": [
    {
     "data": {
      "text/plain": [
       "'\\n- Mulai - Mulai proses.\\n- Inisialisasi variabel `nama` dengan string kosong.\\n- Ulangi selama `nama` tidak sama dengan `nama.upper()`:\\n  - Baca data string - Ambil sebuah nama dari pengguna dengan prompt \"Masukkan nama Anda (wajib CAPSLOCK): \".\\n- Setelah loop selesai, cetak \"Berhasil\".\\n- Selesai - Proses selesai.\\n'"
      ]
     },
     "execution_count": 132,
     "metadata": {},
     "output_type": "execute_result"
    }
   ],
   "source": [
    "# Tugas Mandiri (latihan membuat alur teks program)\n",
    "## Buatlah program dengan alur yang anda bikin sesuai materi diatas\n",
    "## Dimulai dari alur teks (Algoritma Informal)\n",
    "\"\"\"\n",
    "- Mulai - Mulai proses.\n",
    "- Inisialisasi variabel `count` dengan 0.\n",
    "- Baca input nama - Ambil nama dari pengguna dengan prompt \"Masukkan nama Anda (wajib CAPSLOCK): \".\n",
    "- Ulangi selama nama tidak sama dengan nama dalam huruf kapital:\n",
    "  - Jika `count` lebih dari 3:\n",
    "    - Tampilkan pesan \"TOLONG MASUKAN NAMA ANDA DENGAN HURUF KAPITAL\".\n",
    "    - Set `count` kembali ke 0.\n",
    "  - Baca input nama lagi dari pengguna dengan prompt \"Nama tidak sesuai! Masukkan lagi (wajib CAPSLOCK): \".\n",
    "  - Tambah `count` sebanyak 1.\n",
    "- Setelah loop selesai, cetak \"Berhasil\".\n",
    "- Selesai - Proses selesai.\n",
    "\n",
    "\n",
    "\"\"\""
   ]
  },
  {
   "cell_type": "code",
   "execution_count": 138,
   "id": "52acb868-1734-44cf-9eec-394a8557b66a",
   "metadata": {},
   "outputs": [
    {
     "name": "stdin",
     "output_type": "stream",
     "text": [
      "Masukkan nama Anda (wajib CAPSLOCK):  sdasd\n",
      "Nama tidak sesuai! Masukkan lagi (wajib CAPSLOCK):  ibnu'\n",
      "Nama tidak sesuai! Masukkan lagi (wajib CAPSLOCK):  Ibnu\n",
      "Nama tidak sesuai! Masukkan lagi (wajib CAPSLOCK):  IBNU Shabill\n",
      "Nama tidak sesuai! Masukkan lagi (wajib CAPSLOCK):  sabiL\n",
      "Nama tidak sesuai! Masukkan lagi (wajib CAPSLOCK):  dasd\n"
     ]
    },
    {
     "name": "stdout",
     "output_type": "stream",
     "text": [
      "TOLONG MASUKAN NAMA ANDA DENGAN HURUF KAPITAL\n"
     ]
    },
    {
     "name": "stdin",
     "output_type": "stream",
     "text": [
      "Nama tidak sesuai! Masukkan lagi (wajib CAPSLOCK):  IBNU SHABILL AL ZAHARI\n"
     ]
    },
    {
     "name": "stdout",
     "output_type": "stream",
     "text": [
      "Berhasil\n"
     ]
    }
   ],
   "source": [
    "nama = input(\"Masukkan nama Anda (wajib CAPSLOCK): \")\n",
    "count = 0\n",
    "while nama != nama.upper():\n",
    "    nama = input(\"Nama tidak sesuai! Masukkan lagi (wajib CAPSLOCK): \")\n",
    "    if count > 3:\n",
    "        print(\"TOLONG MASUKAN NAMA ANDA DENGAN HURUF KAPITAL\")\n",
    "        count = 0\n",
    "    count += 1\n",
    "        \n",
    "\n",
    "print(\"Berhasil\")\n"
   ]
  },
  {
   "cell_type": "markdown",
   "id": "c54edea6-d91c-434a-b11d-5b42516fe22c",
   "metadata": {},
   "source": [
    "# kesimpulanis\n",
    "\n",
    "dengan memahami konsep-konsep ini, kita bisa menangani berbagai jenis data dengan lebih baik. contoh nya dengan fungsi `rounded()` kita bisa menangani data float dengan membulatkan angka ke angka bulat terdekat atau ke jumlah desimal tertentu.\n",
    "\n",
    "selain itu kita harus teliti pada code agar dapat menghindari kesalahan atau typo, karena kesalahan kecil bisa berakibat fatal pada program. \n",
    "serta membuat kode yang lebih efektif, efisien, dan mudah di baca"
   ]
  }
 ],
 "metadata": {
  "colab": {
   "provenance": []
  },
  "kernelspec": {
   "display_name": "Python 3 (ipykernel)",
   "language": "python",
   "name": "python3"
  },
  "language_info": {
   "codemirror_mode": {
    "name": "ipython",
    "version": 3
   },
   "file_extension": ".py",
   "mimetype": "text/x-python",
   "name": "python",
   "nbconvert_exporter": "python",
   "pygments_lexer": "ipython3",
   "version": "3.12.4"
  },
  "widgets": {
   "application/vnd.jupyter.widget-state+json": {
    "state": {},
    "version_major": 2,
    "version_minor": 0
   }
  }
 },
 "nbformat": 4,
 "nbformat_minor": 5
}
