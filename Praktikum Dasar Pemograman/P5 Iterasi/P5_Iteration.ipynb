{
 "cells": [
  {
   "cell_type": "markdown",
   "id": "b3450a5a-c882-48e6-8aae-8be59018aedb",
   "metadata": {
    "id": "b3450a5a-c882-48e6-8aae-8be59018aedb"
   },
   "source": [
    "\n",
    "# Praktikum 5: Iterasi\n",
    "\n",
    "## Tujuan Pembelajaran\n",
    "- Memahami dan mengimplementasikan jenis-jenis iterasi/perulangan (for, while) dalam Python.\n",
    "- Menggunakan perulangan untuk menyelesaikan berbagai kasus pemrograman.\n",
    "\n",
    "## Pokok Bahasan\n",
    "- Perulangan for\n",
    "- Perulangan while\n",
    "- Penggunaan `break` dan `continue` dalam perulangan\n",
    "\n",
    "Berikut ini adalah beberapa percobaan dan latihan yang bertujuan untuk memahami konsep iterasi dalam Python.\n"
   ]
  },
  {
   "attachments": {},
   "cell_type": "markdown",
   "id": "e989c82b-4c5e-4eaf-9152-4a4c9a494b65",
   "metadata": {},
   "source": [
    "\n",
    "### Percobaan 5.1: Perulangan For\n",
    "\n",
    "Tabel di bawah ini menunjukkan skenario perulangan menggunakan perintah `for`. Buatlah program berdasarkan tabel ini.\n",
    "\n",
    "| Kondisi Perulangan                     | Perintah                                                   |\n",
    "|----------------------------------------|------------------------------------------------------------|\n",
    "| Menampilkan angka 1 sampai 10          | `for i in range(1, 11): print(i)`                          |\n",
    "| Menampilkan bilangan genap 0 sampai 10 | `for i in range(0, 11, 2): print(i)`                       |\n",
    "| Menampilkan setiap karakter dalam \"Python\" | `for char in \"Python\": print(char)`                       |\n",
    "\n",
    "#### Soal:\n",
    "1. Implementasikan program dari setiap skenario pada tabel di atas.\n",
    "2. Uji program dengan output yang benar.\n",
    "\n",
    "<img src=\"Screenshot (1).png\" alt=\"Deskripsi Gambar\" width=\"350\" style=\"margin-left: 30px;\" />\n"
   ]
  },
  {
   "cell_type": "code",
   "execution_count": 5,
   "id": "b4beb5da-51a9-47ff-a732-d6cf9247ae74",
   "metadata": {
    "id": "ea6a12c4-1360-4bfe-a05f-4098604926bc"
   },
   "outputs": [
    {
     "name": "stdout",
     "output_type": "stream",
     "text": [
      "Menampilkan angka 1 sampai 10 : \n",
      "1\n",
      "2\n",
      "3\n",
      "4\n",
      "5\n",
      "6\n",
      "7\n",
      "8\n",
      "9\n",
      "10\n",
      "Menampilkan bilangan genap 0 sampai 10: \n",
      "0\n",
      "2\n",
      "4\n",
      "6\n",
      "8\n",
      "10\n",
      "Menampilkan setiap karakter dalam \"Python\" : \n",
      "P\n",
      "y\n",
      "t\n",
      "h\n",
      "o\n",
      "n\n"
     ]
    }
   ],
   "source": [
    "# Ketikan Code Disini lalu Jalankan (Run)\n",
    "\n",
    "print(\"Menampilkan angka 1 sampai 10 : \")\n",
    "for i in range(1, 11):\n",
    "    print(i)\n",
    "\n",
    "print(\"Menampilkan bilangan genap 0 sampai 10: \")\n",
    "for i in range(0, 11, 2):\n",
    "    print(i)\n",
    "\n",
    "print('Menampilkan setiap karakter dalam \"Python\" : ')\n",
    "for char in \"Python\":\n",
    "    print(char)"
   ]
  },
  {
   "cell_type": "markdown",
   "id": "28e24639-72f7-4d78-8169-b805c5bee744",
   "metadata": {},
   "source": [
    "\n",
    "### Percobaan 5.2: Perulangan While\n",
    "\n",
    "Tabel di bawah ini menunjukkan contoh penggunaan perulangan `while` dalam berbagai skenario.\n",
    "\n",
    "| Kondisi Perulangan                      | Perintah                                                      |\n",
    "|-----------------------------------------|---------------------------------------------------------------|\n",
    "| Menampilkan angka 1 sampai 5            | `i = 1 while i <= 5: print(i) i += 1`                         |\n",
    "| Menampilkan bilangan ganjil 1 sampai 19 | `i = 1 while i < 20: if i % 2 != 0: print(i) i += 1`          |\n",
    "|      | `i = 0 while True: if i == 10: break print(i) i += 1`         |\n",
    "\n",
    "#### Soal:\n",
    "1. Implementasikan program dari setiap skenario pada tabel di atas.\n",
    "2. Uji program dengan output yang benar.\n",
    "\n",
    "<img src=\"Screenshot (2).png\" alt=\"Deskripsi Gambar\" width=\"350\" style=\"margin-left: 30px;\" />"
   ]
  },
  {
   "cell_type": "code",
   "execution_count": 3,
   "id": "b3f87cea-e50a-46fd-820f-bc12703db8da",
   "metadata": {
    "id": "ea6a12c4-1360-4bfe-a05f-4098604926bc"
   },
   "outputs": [
    {
     "name": "stdout",
     "output_type": "stream",
     "text": [
      "Menampilkan angka 1 sampai 5: \n",
      "1\n",
      "2\n",
      "3\n",
      "4\n",
      "5\n",
      "Menampilkan bilangan ganjil 1 sampai 19: \n",
      "1\n",
      "3\n",
      "5\n",
      "7\n",
      "9\n",
      "11\n",
      "13\n",
      "15\n",
      "17\n",
      "19\n",
      "Berhenti ketika angka mencapai 10 : \n",
      "0\n",
      "1\n",
      "2\n",
      "3\n",
      "4\n",
      "5\n",
      "6\n",
      "7\n",
      "8\n",
      "9\n"
     ]
    }
   ],
   "source": [
    "# Ketikan Code Disini lalu Jalankan (Run)\n",
    "\n",
    "print(\"Menampilkan angka 1 sampai 5: \")\n",
    "i = 1\n",
    "while i <= 5:\n",
    "    print(i)\n",
    "    i += 1\n",
    "\n",
    "print(\"Menampilkan bilangan ganjil 1 sampai 19: \")\n",
    "i = 1\n",
    "while i < 20:\n",
    "    if i % 2 != 0:\n",
    "        print(i)\n",
    "    i += 1\n",
    "\n",
    "print(\"Berhenti ketika angka mencapai 10 : \")\n",
    "i = 0\n",
    "while True:\n",
    "    if i == 10:\n",
    "        break\n",
    "    print(i)\n",
    "    i += 1"
   ]
  },
  {
   "cell_type": "markdown",
   "id": "04451d75-fd5c-418f-b2b3-bfe3ca35497d",
   "metadata": {},
   "source": [
    "\n",
    "### Percobaan 5.3: Penggunaan `break` dan `continue`\n",
    "\n",
    "Tabel di bawah ini memberikan skenario bagaimana `break` dan `continue` digunakan dalam perulangan.\n",
    "\n",
    "| Kondisi Perulangan                                        | Perintah                                                      |\n",
    "|-----------------------------------------------------------|---------------------------------------------------------------|\n",
    "| Berhenti ketika angka habis dibagi 3 dan 7                 | `for i in range(1, 100): if i % 3 == 0 and i % 7 == 0: break print(i)` |\n",
    "| Menampilkan hanya bilangan genap dari 1 sampai 10 (skip ganjil) | `for i in range(1, 11): if i % 2 != 0: continue print(i)` |\n",
    "\n",
    "#### Soal:\n",
    "1. Implementasikan program berdasarkan tabel di atas.\n",
    "2. Jelaskan peran `break` dan `continue` dalam program yang Anda buat.\n",
    "\n",
    "<img src=\"Screenshot (3).png\" alt=\"Deskripsi Gambar\" width=\"350\" style=\"margin-left: 30px;\" />"
   ]
  },
  {
   "cell_type": "code",
   "execution_count": 7,
   "id": "75357d06-3bb8-4b42-94cf-f4b2be24a792",
   "metadata": {
    "id": "ea6a12c4-1360-4bfe-a05f-4098604926bc"
   },
   "outputs": [
    {
     "name": "stdout",
     "output_type": "stream",
     "text": [
      "Berhenti ketika angka habis dibagi 3 dan 7:\n",
      "1\n",
      "2\n",
      "3\n",
      "4\n",
      "5\n",
      "6\n",
      "7\n",
      "8\n",
      "9\n",
      "10\n",
      "11\n",
      "12\n",
      "13\n",
      "14\n",
      "15\n",
      "16\n",
      "17\n",
      "18\n",
      "19\n",
      "20\n",
      "Menampilkan hanya bilangan genap dari 1 sampai 10 (skip ganjil):\n",
      "2\n",
      "4\n",
      "6\n",
      "8\n",
      "10\n"
     ]
    }
   ],
   "source": [
    "# Ketikan Code Disini lalu Jalankan (Run)\n",
    "\n",
    "print(\"Berhenti ketika angka habis dibagi 3 dan 7:\")\n",
    "for i in range(1, 100):\n",
    "    if i % 3 == 0 and i % 7 == 0:\n",
    "        break # Berperan: Menghentikan loop ketika menemukan angka yang habis dibagi 3 dan 7\n",
    "    print(i)\n",
    "\n",
    "print(\"Menampilkan hanya bilangan genap dari 1 sampai 10 (skip ganjil):\")\n",
    "for i in range(1, 11):\n",
    "    if i % 2 != 0:\n",
    "        continue # Berperan: Melewatkan loop ke-i jika menemukan angka ganjil\n",
    "    print(i)"
   ]
  },
  {
   "cell_type": "markdown",
   "id": "2b0246ff-584f-4484-b52d-18733bcde7ae",
   "metadata": {},
   "source": [
    "\n",
    "### Percobaan 5.4: Perulangan Bersarang (Nested Loops)\n",
    "\n",
    "Buatlah program yang mencetak tabel perkalian (multiplication table) 1 sampai 5 menggunakan perulangan bersarang.\n",
    "\n",
    "#### Soal:\n",
    "1. Gunakan perulangan bersarang untuk mencetak tabel perkalian.\n",
    "2. Jelaskan bagaimana cara kerja perulangan bersarang dalam program ini.\n",
    "\n",
    "<img src=\"Screenshot (4).png\" alt=\"Deskripsi Gambar\" width=\"450\" style=\"margin-left: 30px;\" />"
   ]
  },
  {
   "cell_type": "code",
   "execution_count": 10,
   "id": "a61ed888-46f5-4412-bffe-22824dc41f1e",
   "metadata": {
    "id": "ea6a12c4-1360-4bfe-a05f-4098604926bc"
   },
   "outputs": [
    {
     "name": "stdout",
     "output_type": "stream",
     "text": [
      "1 * 1 = 1\n",
      "1 * 2 = 2\n",
      "1 * 3 = 3\n",
      "1 * 4 = 4\n",
      "1 * 5 = 5\n",
      "\n",
      "2 * 1 = 2\n",
      "2 * 2 = 4\n",
      "2 * 3 = 6\n",
      "2 * 4 = 8\n",
      "2 * 5 = 10\n",
      "\n",
      "3 * 1 = 3\n",
      "3 * 2 = 6\n",
      "3 * 3 = 9\n",
      "3 * 4 = 12\n",
      "3 * 5 = 15\n",
      "\n",
      "4 * 1 = 4\n",
      "4 * 2 = 8\n",
      "4 * 3 = 12\n",
      "4 * 4 = 16\n",
      "4 * 5 = 20\n",
      "\n",
      "5 * 1 = 5\n",
      "5 * 2 = 10\n",
      "5 * 3 = 15\n",
      "5 * 4 = 20\n",
      "5 * 5 = 25\n",
      "\n"
     ]
    }
   ],
   "source": [
    "# Ketikan Code Disini lalu Jalankan (Run)\n",
    "\n",
    "for i in range(1, 6):\n",
    "    for j in range(1, 6):\n",
    "        print(f\"{i} * {j} = {i * j}\")\n",
    "    print()  # untuk baris baru setelah setiap baris tabel"
   ]
  },
  {
   "cell_type": "markdown",
   "id": "90b010f0",
   "metadata": {},
   "source": [
    "#### Penjelasan loop bersarang yang mencetak tabel perkalian\n",
    "loop Bersarang adalah loop di dalam loop lain. yang artinya sebuah loop yang berjalan di dalam loop lain.\n",
    "\n",
    "Jadi kode di atas memiliki 2 loop yaitu Loop Luar `for i in range(1, 6):` dan Loop dalam `for j in range(1, 6):`\n",
    "\n",
    "1. Loop Luar akan berjalan dari 1 sampai 5. Setiap iterasi loop akan mewakili satu baris dalam tabel perkalian ini (dalam kasus ini, loop luar akan mewalili kolom dari perkalian 1 sampai 5)\n",
    "\n",
    "2. Loop Dalam akan berjalan dari 1 sampai 5 juga. Setiap iterasi loop akan mewakili satu kolom dalam tabel perkalian ini (dalam kasus ini loop akan berperan mengkalikan baris dengan 1 sampai 5)\n",
    "\n",
    "3. Mencetak hasil perkalian `print(f\"{i} * {j} = {i * j}\")`:\n",
    "    1. `i * j` akan menghitung hasil perkalian dari variabel i dan j atau baris dengan kolom\n",
    "    2. `f\"{i} * {j} = {i * j}\"` melakukan format agar terlihat lebih rapi\n",
    "\n",
    "**Agar lebih jelas berikut adalah pejelasan step by step tabel loop nya:**\n",
    "\n",
    "| Loop Luar(ke-i) | Loop Dalam(ke-j) | Hasil Perkalian (ke-i * ke-j) | Output `print(f\"{ke-i} * {ke-j} = {ke-i * ke-j}\")`       |\n",
    "|--------------|----------------|------------------------|---------------|\n",
    "| 1  | 1 | 1  | 1 * 1 = 1  |\n",
    "| 1  | 2 | 2  | 1 * 2 = 2  |\n",
    "| 1  | 3 | 3  | 1 * 3 = 3  |\n",
    "| 1  | 4 | 4  | 1 * 4 = 4  |\n",
    "| 1  | 5 | 5  | 1 * 5 = 5  |\n",
    "| 2  | 1 | 2  | 2 * 1 = 2  |\n",
    "| 2  | 2 | 4  | 2 * 2 = 4  |\n",
    "| 2  | 3 | 6  | 2 * 3 = 6  |\n",
    "| 2  | 4 | 8  | 2 * 4 = 8  |\n",
    "| 2  | 5 | 10 | 2 * 5 = 10 |\n",
    "| 3  | 1 | 3  | 3 * 1 = 3  |\n",
    "| 3  | 2 | 6  | 3 * 2 = 6  |\n",
    "| 3  | 3 | 9  | 3 * 3 = 9  |\n",
    "| 3  | 4 | 12 | 3 * 4 = 12 |\n",
    "| 3  | 5 | 15 | 3 * 5 = 15 |\n",
    "| 4  | 1 | 4  | 4 * 1 = 4  |\n",
    "| 4  | 2 | 8  | 4 * 2 = 8  |\n",
    "| 4  | 3 | 12 | 4 * 3 = 12 |\n",
    "| 4  | 4 | 16 | 4 * 4 = 16 |\n",
    "| 4  | 5 | 20 | 4 * 5 = 20 |\n",
    "| 5  | 1 | 5  | 5 * 1 = 5  |\n",
    "| 5  | 2 | 10 | 5 * 2 = 10 |\n",
    "| 5  | 3 | 15 | 5 * 3 = 15 |\n",
    "| 5  | 4 | 20 | 5 * 4 = 20 |\n",
    "| 5  | 5 | 25 | 5 * 5 = 25 |\n",
    "\n"
   ]
  },
  {
   "cell_type": "markdown",
   "id": "027609a3-346c-4999-a485-772128a8bb6a",
   "metadata": {},
   "source": [
    "\n",
    "### Percobaan 5.5: Perulangan dengan Input Pengguna\n",
    "\n",
    "Buatlah program yang meminta pengguna untuk memasukkan bilangan bulat `n` dan menampilkan bilangan genap dari 1 sampai `n` menggunakan perulangan `for`.\n",
    "\n",
    "#### Soal:\n",
    "1. Gunakan input dari pengguna sebagai batasan perulangan.\n",
    "2. Jelaskan bagaimana program bekerja berdasarkan input pengguna.\n",
    "\n",
    "<img src=\"Screenshot (5).png\" alt=\"Deskripsi Gambar\" width=\"450\" style=\"margin-left: 30px;\" />\n"
   ]
  },
  {
   "cell_type": "code",
   "execution_count": 27,
   "id": "ea6a12c4-1360-4bfe-a05f-4098604926bc",
   "metadata": {
    "id": "ea6a12c4-1360-4bfe-a05f-4098604926bc"
   },
   "outputs": [
    {
     "name": "stdout",
     "output_type": "stream",
     "text": [
      "2\n",
      "4\n",
      "6\n",
      "8\n",
      "10\n"
     ]
    }
   ],
   "source": [
    "# Ketikan Code Disini lalu Jalankan (Run)\n",
    "\n",
    "n = int(input(\"Masukkan bilangan bulat: \"))\n",
    "\n",
    "for i in range(1, n + 1):\n",
    "    if i % 2 == 0:\n",
    "        print(i)"
   ]
  },
  {
   "cell_type": "markdown",
   "id": "fdc7be1f",
   "metadata": {},
   "source": [
    "#### Pejelasan Kode di atas\n",
    "\n",
    "Singkat nya, kode di atas akan menampilkan bilangan genap berdasar kan input dengan user. input daru user akan mewakili jarak angka.\n",
    "Contoh:\n",
    "\n",
    "Misal Input n = 5 <br>\n",
    "Maka Output akan mencetak = 2,4 `karena angka dari 1 sampai 5 hanya 4 dan 2 yang termasuk bilangan genap`\n",
    "\n",
    "Pejelaskan Code:\n",
    "\n",
    "1. `n = int(input(\"Masukkan bilangan bulat: \"))` input akan mewakili rentang jarak angka\n",
    "2. for loop `for i in range(1, n + 1):` akan melakukan perulangan dengan dari 1 sampai n `range(1, n + 1)`. Mengapa n di tambah satu?, karena nilai batas atas yang diberikan ke range() tidak akan termasuk dalam hasil. Contoh jika kamu menentukan batas atas `n = 5` jadi `range(1, 5)` , maka hasilnya adalah [1, 2, 3, 4] nilai 5 tidak akan diikutsertakan. Maka dari itu n + 1 agar 5 di ikut sertakan\n",
    "3. `if i % 2 == 0` akan memeriksa setiap loop apakah sisa bagi i sama dengan 0. Jika iya artinya i adalah bilangan genap dan print i\n",
    "\n",
    "**Agar lebih jelas berikut adalah pejelasan step by step tabel loop nya:**\n",
    "\n",
    "Input n = 5\n",
    "| Iterasi (ke-i) | Jika ke-i bilangan genap `ke-i % 2 == 0` | Output |\n",
    "|-------------|-----------------------|--------|\n",
    "| 1           | Ganjil (False)  |        |\n",
    "| 2           | Genap (True)    | 2      |\n",
    "| 3           | Ganjil (False)  |        |\n",
    "| 4           | Genap (True)    | 4      |\n",
    "| 5           | Ganjil (False)  |        |\n"
   ]
  },
  {
   "cell_type": "markdown",
   "id": "64898842-5af6-4a9b-9b53-4d0b1c697e30",
   "metadata": {},
   "source": [
    "\n",
    "### Percobaan 5.6: Perulangan While dengan Kondisi Spesifik\n",
    "\n",
    "Buatlah program yang terus meminta input bilangan bulat dari pengguna dan hanya berhenti jika pengguna memasukkan angka yang merupakan kelipatan dari 5.\n",
    "\n",
    "#### Soal:\n",
    "1. Gunakan perulangan while untuk terus meminta input pengguna.\n",
    "2. Jelaskan bagaimana kondisi dalam while loop mengontrol kapan perulangan berhenti.\n",
    "\n",
    "<img src=\"Screenshot (6).png\" alt=\"Deskripsi Gambar\" width=\"450\" style=\"margin-left: 30px;\" />\n"
   ]
  },
  {
   "cell_type": "code",
   "execution_count": 24,
   "id": "a9c46ecf-3aef-48a8-9a3e-fce71f2da399",
   "metadata": {
    "id": "ea6a12c4-1360-4bfe-a05f-4098604926bc"
   },
   "outputs": [
    {
     "name": "stdout",
     "output_type": "stream",
     "text": [
      "43 Bukan kelipatan 5, coba lagi.\n",
      "64 Bukan kelipatan 5, coba lagi.\n",
      "2 Bukan kelipatan 5, coba lagi.\n",
      "Anda memasukkan kelipatan 5, program berhenti.\n"
     ]
    }
   ],
   "source": [
    "# Ketikan Code Disini lalu Jalankan (Run)\n",
    "\n",
    "while True:\n",
    "    angka = int(input(\"Masukkan bilangan bulat: \"))\n",
    "\n",
    "    if angka % 5 == 0:\n",
    "        print(\"Anda memasukkan kelipatan 5, program berhenti.\")\n",
    "        break\n",
    "    else:\n",
    "        print(f\"{angka} Bukan kelipatan 5, coba lagi.\")"
   ]
  },
  {
   "cell_type": "markdown",
   "id": "9c5a54a7",
   "metadata": {},
   "source": [
    "#### Pejelasan code di atas (Perulangan While dengan Kondisi Spesifik)\n",
    "\n",
    "Singkat nya, User hanya akan bisa keluar dari loop jika user menginput angka dengan kelipatan dari 5. contohnya 10,20.\n",
    "\n",
    "penjelasan code:\n",
    "1. infinite loop `while True:` ini perulangan yang tek terbatas dan hanya bisa keluar jika di user `exit` atau jika pernyatan `break` dieksekusi\n",
    "2. input user `angka = int(input(\"Masukkan bilangan bulat: \"))` user akan menginput angka dan akan di casting ke int\n",
    "3. kondisi:\n",
    "    1. `if angka % 5 == 0:` Jika user menginput angka kelipatan dari 5 (sisa bagi dari angla yg di input user sama dengan 0) Maka akan keluar dari loop, karena  pernyatan `break` dieksekusi\n",
    "    2. `else:` Jika user tidak menginput angka kelipatan dari 5, maka perulangan kan terus berlanjut dan kembali lagi ke `input`"
   ]
  },
  {
   "cell_type": "code",
   "execution_count": null,
   "id": "b54abe5c-314e-4f9a-8af8-5f3a371bd786",
   "metadata": {},
   "outputs": [],
   "source": [
    "# Tugas Mandiri (latihan membuat alur teks program)\n",
    "## Buatlah program dengan alur yang anda bikin sesuai materi diatas\n",
    "## Dimulai dari alur teks (Algoritma Informal)\n",
    "\"\"\"\n",
    "Mulai - Mulai proses.\n",
    "-Baca vektor A: - Minta pengguna untuk memasukkan elemen vektor A, pisahkan dengan spasi.\n",
    "                -Ubah input tersebut menjadi daftar angka bulat dan simpan dalam variabel a.\n",
    "-Baca vektor B: -Minta pengguna untuk memasukkan elemen vektor B, pisahkan dengan spasi.\n",
    "                -Ubah input tersebut menjadi daftar angka bulat dan simpan dalam variabel b.\n",
    "-Inisialisasi variabel produk_titik - Setel variabel ab ke 0 untuk menyimpan hasil produk titik.\n",
    "\n",
    "-Periksa panjang vektor:\n",
    "--Jika panjang vektor A tidak sama dengan panjang vektor B, Cetak \"Tidak dapat menghitung produk titik karena kedua elemen vektor tidak sama\".\n",
    "-Selesai - Akhiri proses.\n",
    "\n",
    "--Jika tidak\n",
    "---Hitung produk titik:\n",
    "----Untuk setiap indeks i dari 0 hingga panjang vektor A - 1:\n",
    "----Kalikan elemen ke-i dari vektor A dengan elemen ke-i dari vektor B.\n",
    "----Tambahkan hasilnya ke ab.\n",
    "-Cetak hasil produk_titik - Tampilkan hasil produk titik ab.\n",
    "-Selesai - Akhiri proses.\n",
    "\n",
    "\"\"\""
   ]
  },
  {
   "cell_type": "code",
   "execution_count": 30,
   "metadata": {},
   "outputs": [
    {
     "name": "stdout",
     "output_type": "stream",
     "text": [
      "64\n"
     ]
    }
   ],
   "source": []
  },
  {
   "cell_type": "markdown",
   "id": "942e6a95",
   "metadata": {},
   "source": [
    "# Kesimpulan:\n",
    "Perulangan (looping) akan memberi fleksibilitas membuat kode secara berulang. Dengan memahami perulangan, kita bisa menulis kode yang lebih efisien, mudah dipelihara, dan lebih bersih.\n",
    "\n",
    "**jenis jenis looping:**\n",
    "1. `For`:\n",
    "Looping ini di gunakan untuk mengulang kode dengan jumlah itrasi yang sudah ditentukan:\n",
    "\n",
    "Berikut adalah visualisai for loop yang akan melakukan print pada array odds:\n",
    "\n",
    "<img src=\"for-loops_image_num.png\" alt=\"visualisai for loop\" width=\"300\" style=\"margin-left: 30px;\" /><br>\n",
    "2. `While`: \n",
    "Looping ini di gunakan untuk mengulang kode selama kondisi yang di berikan bernilai `true`\n",
    "\n",
    "\n",
    "Berikut adalah Flow Chart while loop:\n",
    "\n",
    "<img src=\"while_loop.jpg\" alt=\"Flow Chart while loop\" width=\"500\" style=\"margin-left: 30px;\" /><br>\n",
    "\n",
    "\n",
    "\n",
    "\n",
    "Source:\n",
    "1. Image for loop :<a href=\"https://swcarpentry.github.io/python-novice-inflammation/05-loop.html\" target=\"_blank\"> swcarpentry.github.io</a>\n",
    "2. Image while loop:<a href=\"https://devsday.ru/blog/details/26068\" target=\"_blank\"> devsday.ru</a> \n"
   ]
  }
 ],
 "metadata": {
  "colab": {
   "provenance": []
  },
  "kernelspec": {
   "display_name": "Python 3",
   "language": "python",
   "name": "python3"
  },
  "language_info": {
   "codemirror_mode": {
    "name": "ipython",
    "version": 3
   },
   "file_extension": ".py",
   "mimetype": "text/x-python",
   "name": "python",
   "nbconvert_exporter": "python",
   "pygments_lexer": "ipython3",
   "version": "3.12.7"
  },
  "widgets": {
   "application/vnd.jupyter.widget-state+json": {
    "state": {},
    "version_major": 2,
    "version_minor": 0
   }
  }
 },
 "nbformat": 4,
 "nbformat_minor": 5
}
