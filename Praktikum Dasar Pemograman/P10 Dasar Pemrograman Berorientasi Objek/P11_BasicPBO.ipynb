{
 "cells": [
  {
   "cell_type": "markdown",
   "id": "b3450a5a-c882-48e6-8aae-8be59018aedb",
   "metadata": {
    "id": "b3450a5a-c882-48e6-8aae-8be59018aedb"
   },
   "source": [
    "# **Modul Pertemuan 11: Dasar Pemrograman Berorientasi Objek**\n",
    "\n",
    "## **Pembahasan**\n",
    "\n",
    "### **1. Kelas dan Objek**\n",
    "\n",
    "Dalam pemrograman berorientasi objek (OOP), *kelas* merupakan blueprint atau cetak biru dari objek. Kelas mendefinisikan atribut (variabel) dan perilaku (method) yang dimiliki oleh objek yang dibuat dari kelas tersebut. Misalnya, kita bisa membayangkan kelas sebagai rancangan dari sebuah mobil, dan mobil yang sebenarnya adalah objek.\n",
    "\n",
    "Berikut contoh sederhana sebuah kelas:\n",
    "\n",
    "```python\n",
    "class Motor:\n",
    "    merek = \"Honda\"\n",
    "    warna = \"Merah\"\n",
    "\n",
    "    def jalan(self):\n",
    "        print(f\"Motor dengan warna {self.warna} sedang jalan\")\n",
    "```\n",
    "\n",
    "### **2. Instansiasi Objek**\n",
    "\n",
    "Untuk membuat objek dari suatu kelas, kita melakukan instansiasi dengan cara memanggil nama kelas seperti memanggil fungsi. Setiap objek yang dibuat dari kelas tersebut memiliki atribut dan method yang dapat diakses menggunakan operator dot (`.`).\n",
    "\n",
    "Contoh pembuatan objek dari kelas `Motor`:\n",
    "\n",
    "```python\n",
    "motor_saya = Motor()\n",
    "motor_saya.jalan()  # Output: Motor dengan warna Merah sedang jalan\n",
    "```\n",
    "\n",
    "### **3. Method dalam Kelas**\n",
    "\n",
    "Method dalam kelas berfungsi seperti fungsi, namun terkait dengan objek atau kelas. Method dapat melakukan tugas tertentu, seperti menghitung atau menampilkan informasi. Method juga bisa menerima parameter, dengan *self* sebagai parameter pertama yang wajib ada.\n",
    "\n",
    "### **4. Constructor (`__init__` Method)**\n",
    "\n",
    "Constructor adalah method khusus yang dijalankan otomatis ketika objek baru dibuat. Dalam Python, constructor didefinisikan dengan method `__init__()`. Ini sering digunakan untuk memberikan nilai awal pada atribut objek.\n",
    "\n",
    "Contoh constructor pada kelas `Balok`:\n",
    "\n",
    "```python\n",
    "class Balok:\n",
    "    def __init__(self, p, l, t):\n",
    "        self.panjang = p\n",
    "        self.lebar = l\n",
    "        self.tinggi = t\n",
    "\n",
    "    def volume(self):\n",
    "        return self.panjang * self.lebar * self.tinggi\n",
    "```\n",
    "\n",
    "Instansiasi objek dengan constructor:\n",
    "\n",
    "```python\n",
    "kotak = Balok(3, 4, 5)\n",
    "print(\"Volume balok:\", kotak.volume())  # Output: Volume balok: 60\n",
    "```\n",
    "\n",
    "---\n",
    "\n",
    "## **Tugas**\n",
    "**Note:** Gunakan logika pemrograman bukan cuman ngikutin gambar. Baca betul-betul apa yang di intruksikan!!"
   ]
  },
  {
   "attachments": {},
   "cell_type": "markdown",
   "id": "e989c82b-4c5e-4eaf-9152-4a4c9a494b65",
   "metadata": {},
   "source": [
    "### **Soal 1: Membuat Kelas Sederhana**\n",
    "\n",
    "#### **Instruksi:**\n",
    "1. Buatlah kelas `Mahasiswa` yang memiliki atribut `nama`, `nim`, dan `jurusan`.\n",
    "2. Buatlah method `info` dalam kelas tersebut yang mencetak informasi mahasiswa.\n",
    "3. Instansiasikan objek dari kelas `Mahasiswa` dan tampilkan informasi mahasiswa menggunakan method `info`.\\\n",
    "4. Jelaskan code dan outputnya\n",
    "5. Jelaskan apa itu ```__init__```\n",
    "\n",
    "Contoh format kode yang benar:\n",
    "\n",
    "<img src=\"Screenshot (1).png\" alt=\"Deskripsi Gambar\" width=\"550\" style=\"margin-left: 30px;\" />\n",
    "---\n",
    "\n"
   ]
  },
  {
   "cell_type": "code",
   "execution_count": 7,
   "id": "b4beb5da-51a9-47ff-a732-d6cf9247ae74",
   "metadata": {
    "id": "ea6a12c4-1360-4bfe-a05f-4098604926bc"
   },
   "outputs": [
    {
     "name": "stdout",
     "output_type": "stream",
     "text": [
      "Nama: Ibnu Shabill Al Zahari, NIM: 2411102441264, Jurusan: Teknik Informatika\n"
     ]
    }
   ],
   "source": [
    "# Ketikan Code Disini lalu Jalankan (Run)\n",
    "class Mahasiswa:\n",
    "    def __init__(self, nama, nim, jurusan): # Ini di sebut juga sebagai Constructor. method ini akan dijalankan saat pertama kali objek dibuat. parameter self adalah objek itu sendiri, sedangkan nama, nim, dan jurusan adalah parameter yang diterima oleh method ini.\n",
    "        self.nama = nama # self.nama adalah variabel milik objek yang bersifat public, sedangkan nama adalah variabel yang diterima oleh method ini.\n",
    "        self.nim = nim # sama seperti self.nama\n",
    "        self.jurusan = jurusan\n",
    "\n",
    "    def info(self): # ini adalah metode lain yg digunakan untuk menampilkan informasi mahasiswa\n",
    "        print(f\"Nama: {self.nama}, NIM: {self.nim}, Jurusan: {self.jurusan}\")\n",
    "\n",
    "\n",
    "# data mahasiswa\n",
    "nama = \"Ibnu Shabill Al Zahari\"\n",
    "nim = \"2411102441264\"\n",
    "prodi = \"Teknik Informatika\"\n",
    "\n",
    "mahasiswa = Mahasiswa(nama, nim, prodi) # membuat objek mahasiswa dari class Mahasiswa\n",
    "mahasiswa.info() # panggil metode info() milik objek mahasiswa\n",
    "\n",
    "# __init__ adalah metode khusus yg akan di eksekusi saat objek dibuat.\n",
    "#  Metode ini biasanya digunakan utk menginisialiasi objek, misalnya memberikan nilai awal pada properti objek. \n",
    "# Metode ini harus memiliki minimal satu parameter yaitu self yang merujuk pada objek itu sendiri."
   ]
  },
  {
   "cell_type": "markdown",
   "id": "28e24639-72f7-4d78-8169-b805c5bee744",
   "metadata": {},
   "source": [
    "### **Soal 2: Menambah Method dalam Kelas**\n",
    "\n",
    "#### **Instruksi:**\n",
    "1. Tambahkan method baru bernama `perkenalan` dalam kelas `Mahasiswa` yang menampilkan pesan perkenalan dari mahasiswa.\n",
    "2. Gunakan method tersebut untuk memperkenalkan diri dari objek yang telah Anda buat.\n",
    "\n",
    "Contoh penggunaan:\n",
    "\n",
    "```python\n",
    "mhs1.perkenalan()\n",
    "```\n",
    "\n",
    "---\n",
    "\n"
   ]
  },
  {
   "cell_type": "code",
   "execution_count": 3,
   "id": "b3f87cea-e50a-46fd-820f-bc12703db8da",
   "metadata": {
    "id": "ea6a12c4-1360-4bfe-a05f-4098604926bc"
   },
   "outputs": [
    {
     "name": "stdout",
     "output_type": "stream",
     "text": [
      "Perkenalkan, nama saya Ibnu Shabill Al Zahari, dengan NIM Ibnu Shabill Al Zahari, dari prodi Teknik Informatika\n"
     ]
    }
   ],
   "source": [
    "# Ketikan Code Disini lalu Jalankan (Run)\n",
    "class Mahasiswa:\n",
    "    def __init__(self, nama, nim, jurusan): # Ini di sebut juga sebagai Constructor. method ini akan dijalankan saat pertama kali objek dibuat. parameter self adalah objek itu sendiri, sedangkan nama, nim, dan jurusan adalah parameter yang diterima oleh method ini.\n",
    "        self.nama = nama # self.nama adalah variabel milik objek yang bersifat public, sedangkan nama adalah variabel yang diterima oleh method ini.\n",
    "        self.nim = nim # sama seperti self.nama\n",
    "        self.jurusan = jurusan\n",
    "\n",
    "    def info(self): # ini adalah metode lain yg digunakan untuk menampilkan informasi mahasiswa\n",
    "        print(f\"Nama: {self.nama}, NIM: {self.nim}, Jurusan: {self.jurusan}\")\n",
    "\n",
    "    def perkenalan(self):\n",
    "        print(f\"Perkenalkan, nama saya {self.nama}, dengan NIM {self.nim}, dari prodi {self.jurusan}\")\n",
    "\n",
    "mahasiswa = Mahasiswa(nama, nim, prodi) # membuat objek mahasiswa dari class Mahasiswa\n",
    "mahasiswa.perkenalan() # panggil metode info() milik objek mahasiswa\n"
   ]
  },
  {
   "cell_type": "markdown",
   "id": "04451d75-fd5c-418f-b2b3-bfe3ca35497d",
   "metadata": {},
   "source": [
    "### **Soal 3: Membuat Kelas dengan Constructor**\n",
    "\n",
    "#### **Instruksi:**\n",
    "1. Buatlah kelas `PersegiPanjang` yang memiliki atribut `panjang` dan `lebar`.\n",
    "2. Buatlah method `luas` yang menghitung luas persegi panjang.\n",
    "3. Buatlah method `keliling` yang menghitung keliling persegi panjang.\n",
    "4. Instansiasikan objek dari kelas tersebut dan tampilkan luas dan kelilingnya.\n",
    "5. Jelaskan Code serta outputnya\n",
    "6. Perbaiki markdown ini menjadi jelas\n",
    "\n",
    "Contoh format kode yang salah:\n",
    "\n",
    "<img src=\"Screenshot (2).png\" alt=\"Deskripsi Gambar\" width=\"350\" style=\"margin-left: 30px;\" />\n",
    "---\n"
   ]
  },
  {
   "cell_type": "code",
   "execution_count": 8,
   "id": "75357d06-3bb8-4b42-94cf-f4b2be24a792",
   "metadata": {
    "id": "ea6a12c4-1360-4bfe-a05f-4098604926bc"
   },
   "outputs": [
    {
     "name": "stdout",
     "output_type": "stream",
     "text": [
      "Luas : p x l --> 4 x 5 =  20\n",
      "Keliling :2(p x l) --> 2 (4 x 5) =  18\n"
     ]
    }
   ],
   "source": [
    "# Ketikan Code Disini lalu Jalankan (Run)\n",
    "class PersegiPanjang:\n",
    "    def __init__(self, panjang, lebar): # constructor\n",
    "        self.panjang = panjang # panjang\n",
    "        self.lebar = lebar # lebar\n",
    "\n",
    "    def luas(self): # method luas\n",
    "        return self.panjang * self.lebar\n",
    "\n",
    "    def keliling(self): # method keliling\n",
    "        return 2 * (self.panjang + self.lebar)\n",
    "    \n",
    "p = int(input(\"Masukkan panjang: \")) # input panjang\n",
    "l = int(input(\"Masukkan lebar: \")) # input lebar\n",
    "\n",
    "persegi_panjang = PersegiPanjang(p, l) # buat oject persegi_panjang dari class PersegiPanjang dengan panjang 4 dan lebar 5\n",
    "print(f\"Luas : p x l --> {p} x {l} = \", persegi_panjang.luas())  # panggil method luas() milik objek persegi_panjang dan tampilkan hasilnya\n",
    "print(f\"Keliling :2(p x l) --> 2 ({p} x {l}) = \", persegi_panjang.keliling()) # sana seperti di atas, tapi ini utk method keliling()"
   ]
  },
  {
   "cell_type": "markdown",
   "id": "2b0246ff-584f-4484-b52d-18733bcde7ae",
   "metadata": {},
   "source": [
    "### **Soal 4: Membuat Kelas dengan Method Tambahan**\n",
    "\n",
    "#### **Instruksi:**\n",
    "1. Buatlah kelas `Lingkaran` yang memiliki atribut `jari_jari`.\n",
    "2. Buatlah method `luas` yang menghitung luas lingkaran (rumus: \\( \\pi r^2 \\)).\n",
    "3. Buatlah method `keliling` yang menghitung keliling lingkaran (rumus: \\( 2\\pi r \\)).\n",
    "4. Tambahkan constructor untuk menginisialisasi atribut `jari_jari`.\n",
    "5. Instansiasikan objek dan hitung luas serta keliling lingkaran.\n",
    "\n",
    "Contoh penggunaan:\n",
    "\n",
    "<img src=\"Screenshot (3).png\" alt=\"Deskripsi Gambar\" width=\"450\" style=\"margin-left: 30px;\" />\n",
    "\n",
    "---\n",
    "\n"
   ]
  },
  {
   "cell_type": "code",
   "execution_count": 12,
   "id": "a61ed888-46f5-4412-bffe-22824dc41f1e",
   "metadata": {
    "id": "ea6a12c4-1360-4bfe-a05f-4098604926bc"
   },
   "outputs": [
    {
     "name": "stdout",
     "output_type": "stream",
     "text": [
      "Luas Lingkaran: πr^2 --> 3.14 (7)^2 =  153.93804002591\n",
      "Keliling Lingkaran: 2πr --> 2 x 3.14 x 7  43.98229715026\n"
     ]
    }
   ],
   "source": [
    "# Ketikan Code Disini lalu Jalankan (Run)\n",
    "class Circle:\n",
    "    pi = 3.14159265359 # variabel class\n",
    "\n",
    "    def __init__(self, jari_jari): #`constructor`\n",
    "        self.jari_jari = jari_jari # variabel jari-jari\n",
    "\n",
    "    def luas(self): # method luas\n",
    "        return self.pi * (self.jari_jari ** 2) # rumus luas lingkaran L = πr^2\n",
    "\n",
    "    def keliling(self): # method keliling\n",
    "        return 2 * self.pi * self.jari_jari # rumus keliling lingkaran K = 2πr\n",
    "r = int(input(\"Masukkan jari-jari: \")) # input jari-jari\n",
    "\n",
    "lingkaran = Circle(r) # buat oject lingkaran dari class Circle\n",
    "print(f\"Luas Lingkaran: πr^2 --> {round(lingkaran.pi,2)} ({r})^2 = \", lingkaran.luas()) # panggil method luas() milik objek lingkaran dan tampilkan hasilnya\n",
    "print(f\"Keliling Lingkaran: 2πr --> 2 x {round(lingkaran.pi,2)} x {r} \", lingkaran.keliling()) # sama saja seperti di atas, tapi ini utk method keliling()"
   ]
  },
  {
   "cell_type": "markdown",
   "id": "027609a3-346c-4999-a485-772128a8bb6a",
   "metadata": {},
   "source": [
    "### **Soal 5: Memodifikasi Kelas dengan Logika Tambahan**\n",
    "\n",
    "#### **Instruksi:**\n",
    "1. Buat kelas `Karyawan` yang memiliki atribut `nama`, `gaji`, dan `jabatan`.\n",
    "2. Tambahkan method `kenaikan_gaji` yang akan menghitung kenaikan gaji karyawan berdasarkan jabatan:\n",
    "   - Jika jabatan \"Manager\", naikkan gaji 10%.\n",
    "   - Jika jabatan \"Staf\", naikkan gaji 5%.\n",
    "3. Tambahkan method `info` untuk mencetak informasi karyawan termasuk gaji setelah kenaikan.\n",
    "4. Instansiasikan objek karyawan dan panggil method `kenaikan_gaji`.\n",
    "\n",
    "Contoh format kode:\n",
    "\n",
    "<img src=\"Screenshot (4).png\" alt=\"Deskripsi Gambar\" width=\"550\" style=\"margin-left: 30px;\" />\n",
    "\n",
    "---"
   ]
  },
  {
   "cell_type": "code",
   "execution_count": 13,
   "id": "ea6a12c4-1360-4bfe-a05f-4098604926bc",
   "metadata": {
    "id": "ea6a12c4-1360-4bfe-a05f-4098604926bc"
   },
   "outputs": [
    {
     "name": "stdout",
     "output_type": "stream",
     "text": [
      "Nama: Budi, Jabatan: Manager, Gaji: 11000000.0\n"
     ]
    }
   ],
   "source": [
    "# Ketikan Code Disini lalu Jalankan (Run)\n",
    "class Karyawan:\n",
    "    def __init__(self, nama, gaji, jabatan): # constructor\n",
    "        self.nama = nama\n",
    "        self.gaji = gaji\n",
    "        self.jabatan = jabatan\n",
    "\n",
    "    def kenaikan_gaji(self): # method kenaikan_gaji\n",
    "        \"\"\"menaikkan gaji karyawan berdasarkan jabatan\n",
    "        \"\"\"\n",
    "        if self.jabatan == \"Manager\":\n",
    "            self.gaji *= 1.10\n",
    "        elif self.jabatan == \"Staf\":\n",
    "            self.gaji *= 1.05\n",
    "\n",
    "    def info(self): # method info\n",
    "        \"\"\" menampilkan informasi karyawan. nama, jabatan, dan gaji\n",
    "        \"\"\"\n",
    "        print(f\"Nama: {self.nama}, Jabatan: {self.jabatan}, Gaji: {self.gaji}\")\n",
    "\n",
    "# Instansiasi objek\n",
    "karyawan1 = Karyawan(\"Budi\", 10000000, \"Manager\") # objek karyawan1 dari class Karyawan\n",
    "\n",
    "karyawan1.kenaikan_gaji()\n",
    "karyawan1.info()"
   ]
  },
  {
   "cell_type": "markdown",
   "id": "f63cf7a0-cc5a-449e-9f7d-c14947ba96a3",
   "metadata": {},
   "source": [
    "<span style=\"color:red; font-size: 20px;\">\n",
    "<b>Tugas Mandiri </b>\n",
    "</span>\n",
    "\n",
    "1. **Inheritance:** Modifikasilah kelas `Karyawan` sehingga memiliki subclass bernama `KaryawanIT` yang memiliki tambahan atribut `keahlian`. Tambahkan method `info` di subclass untuk mencetak informasi lengkap tentang karyawan IT.\n",
    "   \n",
    "2. **Polimorfisme:** Buatlah dua kelas yang mewakili dua jenis kendaraan, misalnya `Mobil` dan `Motor`, keduanya memiliki method `jalan()` yang menampilkan pesan berbeda. Buatlah program yang memanfaatkan polimorfisme untuk memanggil method `jalan()` pada masing-masing objek.\n"
   ]
  },
  {
   "cell_type": "code",
   "execution_count": 22,
   "id": "f35c2ac5-0bde-47f0-ba6c-ec52de9d14be",
   "metadata": {
    "id": "ea6a12c4-1360-4bfe-a05f-4098604926bc"
   },
   "outputs": [
    {
     "name": "stdout",
     "output_type": "stream",
     "text": [
      "Nama: Agus\n",
      "Jabatan: Artificial Intelligence Engineer\n",
      "Gaji: $80000 \n",
      "Skill: Pemrograman, Matematika dan Statistik, Machine Learning, Deep Learning, Cloud Computing, Algoritma\n",
      "\n",
      "\n",
      "\n",
      "\n",
      "\n",
      "\n",
      "Nama: Porsche Taycan\n",
      "Top Speed: 260 km/jam\n",
      "Bahan Bakar: Electric\n",
      "Jumlah Roda: 4\n",
      "Mobil Porsche Taycan melaju dengan kecepatan 100 km/jam\n",
      "Mobil Porsche Taycan berhenti dengan mengerem\n",
      "Nama: Kawasaki Ninja H2\n",
      "Top Speed: 299 km/jam\n",
      "Bahan Bakar: Bensin\n",
      "Jumlah Roda: 2\n",
      "Motor Kawasaki Ninja H2 melaju dengan kecepatan 60 km/jam\n",
      "Motor Kawasaki Ninja H2 berhenti dengan mengerem\n"
     ]
    }
   ],
   "source": [
    "# Ketikan Code Disini lalu Jalankan (Run)\n",
    "\n",
    "class KaryawanIT(Karyawan): # class KaryawanIT yang merupakan turunan dari class Karyawan (inheritance)\n",
    "    def __init__(self, nama, gaji, jabatan, skill): # constructor\n",
    "        super().__init__(nama, gaji, jabatan) # memanggil constructor dari class Karyawan\n",
    "        self.skill = skill\n",
    "    \n",
    "    def info(self):\n",
    "        print(f\"Nama: {self.nama}\\nJabatan: {self.jabatan}\\nGaji: ${self.gaji} \\nSkill: {', '.join(self.skill)}\")\n",
    "\n",
    "karyawan_it = KaryawanIT(\"Agus\", 80000, \"Artificial Intelligence Engineer\", [\"Pemrograman\", \"Matematika dan Statistik\", \"Machine Learning\", \"Deep Learning\", \"Cloud Computing\", \"Algoritma\"]) # objek karyawan_it dari class KaryawanIT\n",
    "karyawan_it.info() # panggil method info() milik objek karyawan_it\n",
    "\n",
    "print(\"\\n\")\n",
    "print(\"\\n\")\n",
    "print(\"\\n\")\n",
    "\n",
    "class Kendaraan: # class Kendaraan\n",
    "    def __init__(self, brand, top_speed, bahan_bakar, jumlah_roda): # constructor\n",
    "        self.brand = brand # brand\n",
    "        self.top_speed = top_speed # top_speed\n",
    "        self.bahan_bakar = bahan_bakar # bahan_bakar\n",
    "        self.jumlah_roda = jumlah_roda # jumlah_roda\n",
    "\n",
    "    def info(self): # method info\n",
    "        \"\"\"menampilkan informasi kendaraan\"\"\"\n",
    "        print(f\"Nama: {self.brand}\\nTop Speed: {self.top_speed} km/jam\\nBahan Bakar: {self.bahan_bakar}\\nJumlah Roda: {self.jumlah_roda}\")\n",
    "    \n",
    "    def run(self):\n",
    "        \"\"\"menjalankan kendaraan\n",
    "        \"\"\"\n",
    "        print(f\"{self.brand} berjalan\")\n",
    "\n",
    "    def stop(self):\n",
    "        \"\"\"menghentikan kendaraan\n",
    "        \"\"\"\n",
    "        print(f\"{self.brand} berhenti\")\n",
    "\n",
    "class Mobil(Kendaraan):\n",
    "    def run(self): #Polymorphism (method run yang berbeda dari class Kendaraan)\n",
    "        \"\"\"menggerakkan mobil\n",
    "        \"\"\"\n",
    "        print(f\"Mobil {self.brand} melaju dengan kecepatan 100 km/jam\")\n",
    "    \n",
    "    def stop(self): #Polymorphism (method stop yang berbeda dari class Kendaraan)\n",
    "        print(f\"Mobil {self.brand} berhenti dengan mengerem\")\n",
    "\n",
    "class Motor(Kendaraan): # class Motor yang merupakan turunan dari class Kendaraan\n",
    "    def run(self): #Polymorphism (method run yang berbeda dari class Kendaraan)\n",
    "        print(f\"Motor {self.brand} melaju dengan kecepatan 60 km/jam\")\n",
    "    \n",
    "    def stop(self): #Polymorphism (method stop yang berbeda dari class Kendaraan)\n",
    "        print(f\"Motor {self.brand} berhenti dengan mengerem\")\n",
    "\n",
    "# Membuat objek\n",
    "mobil = Mobil(\"Porsche Taycan\", 260, \"Electric\", 4) # objek mobil dari class Mobil\n",
    "motor = Motor(\"Kawasaki Ninja H2\", 299, \"Bensin\", 2) # objek motor dari class Motor\n",
    "\n",
    "# Memanggil metode\n",
    "mobil.info()\n",
    "mobil.run()\n",
    "mobil.stop()\n",
    "\n",
    "motor.info()\n",
    "motor.run()\n",
    "motor.stop()\n",
    "\n",
    "\n",
    "\n"
   ]
  },
  {
   "cell_type": "markdown",
   "id": "93cdda36-f71b-4995-a92f-b5682f5246f6",
   "metadata": {},
   "source": [
    "# Jelaskan  Kesimpulan dari Pertemuan kali ini Dengan Format Markdown, Min.3 Baris\n",
    "# Note: nilai plus buat yang masukkan gambar, visualisasi penjelasan, dan table penjelasan\n",
    "# kesimpulan\n",
    "Object-Oriented Programming (OOP) di py adalah cara memprogram code berfokus pada objek sebagai unit umata utk mengirganisisai code. Objek dibentuk dari class(blueprint) yg memiliki atribut data dan method\n",
    "\n",
    "\n",
    "\n",
    "### Konsep Utama OOP Di py\n",
    "1. `Class`: Blueprint untuk membuat objek.\n",
    "2. `Objec`: Instance dari sebuah kelas.\n",
    "3. `Encapsulation`: Membatasi akses atribut atau metode dengan membuatnya private.\n",
    "4. `Inheritance`: Membuat kelas baru dengan mewarisi atribut dan metode dari kelas lain.\n",
    "5. `Polymorphism`: Metode dengan nama yang sama tetapi perilaku berbeda, tergantung pada kelasnya.\n",
    "6. `Abstraction`: Menyembunyikan detail implementasi dan hanya menunjukkan fitur penting (dapat menggunakan modul abc).\n",
    "\n",
    "<img src=\"https://miro.medium.com/v2/resize:fit:750/format:webp/1*q0Tw3AvDkXhS_Ot3Y5_fxw.png\" alt=\"Deskripsi Gambar\" width=\"550\" style=\"margin-left: 30px;\">"
   ]
  }
 ],
 "metadata": {
  "colab": {
   "provenance": []
  },
  "kernelspec": {
   "display_name": "Python 3",
   "language": "python",
   "name": "python3"
  },
  "language_info": {
   "codemirror_mode": {
    "name": "ipython",
    "version": 3
   },
   "file_extension": ".py",
   "mimetype": "text/x-python",
   "name": "python",
   "nbconvert_exporter": "python",
   "pygments_lexer": "ipython3",
   "version": "3.12.7"
  },
  "widgets": {
   "application/vnd.jupyter.widget-state+json": {
    "state": {},
    "version_major": 2,
    "version_minor": 0
   }
  }
 },
 "nbformat": 4,
 "nbformat_minor": 5
}
