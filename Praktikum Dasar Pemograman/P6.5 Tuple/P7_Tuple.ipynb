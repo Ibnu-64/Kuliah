{
 "cells": [
  {
   "cell_type": "markdown",
   "id": "b3450a5a-c882-48e6-8aae-8be59018aedb",
   "metadata": {
    "id": "b3450a5a-c882-48e6-8aae-8be59018aedb"
   },
   "source": [
    "# Modul Soal Pertemuan 7 - **Tuple**\n",
    "\n",
    "**Topik:** Tuple dalam Python\n",
    "\n",
    "**Tujuan Pembelajaran:**\n",
    "- Memahami konsep dasar Tuple dalam Python.\n",
    "- Mengetahui perbedaan antara List dan Tuple.\n",
    "- Mampu menggunakan fungsi dan method yang tersedia untuk Tuple.\n",
    "\n",
    "---\n",
    "\n",
    "## 1. **Pendahuluan**\n",
    "\n",
    "**Tuple** adalah tipe data koleksi seperti List, namun elemen-elemen di dalam Tuple bersifat **immutable** (tidak dapat diubah). Tuple digunakan saat Anda ingin menyimpan data yang tidak akan diubah setelah dideklarasikan.\n",
    "\n",
    "Tuple didefinisikan dengan tanda kurung biasa `( )` dan elemen-elemen di dalamnya dipisahkan oleh koma.\n",
    "\n",
    "### **Contoh:**\n",
    "```python\n",
    "# Membuat Tuple\n",
    "hewan = (\"kucing\", \"anjing\", \"kelinci\")\n",
    "```\n",
    "\n",
    "---\n",
    "\n",
    "## 2. **Tabel Pembahasan Fungsi dan Method pada Tuple**\n",
    "\n",
    "| **No** | **Fungsi/Method**   | **Penjelasan**                                                                                   | **Contoh Kode**                                                                                                                         |\n",
    "|--------|---------------------|---------------------------------------------------------------------------------------------------|-----------------------------------------------------------------------------------------------------------------------------------------|\n",
    "| 1      | `len()`              | Menghitung jumlah elemen dalam Tuple.                                                             | ```python len((1, 2, 3))  # Output: 3```                                                                                                |\n",
    "| 2      | `min()`              | Mengembalikan elemen dengan nilai terkecil (hanya bisa digunakan pada elemen yang bisa dibandingkan). | ```python min((4, 2, 8, 1))  # Output: 1```                                                                                             |\n",
    "| 3      | `max()`              | Mengembalikan elemen dengan nilai terbesar.                                                       | ```python max((4, 2, 8, 1))  # Output: 8```                                                                                             |\n",
    "| 4      | `index()`            | Mengembalikan indeks dari elemen pertama yang ditemukan pada Tuple.                                | ```python hewan = (\"kucing\", \"anjing\") hewan.index(\"anjing\")  # Output: 1```                                                             |\n",
    "| 5      | `count()`            | Menghitung berapa kali elemen tertentu muncul dalam Tuple.                                        | ```python angka = (1, 2, 3, 1, 1) angka.count(1)  # Output: 3```                                                                        |\n",
    "| 6      | Tuple Packing        | Menyimpan beberapa nilai dalam satu variabel dalam bentuk Tuple.                                  | ```python a = 1, 2, 3  # Output: (1, 2, 3)```                                                                                           |\n",
    "| 7      | Tuple Unpacking      | Membongkar Tuple menjadi beberapa variabel.                                                       | ```python a, b, c = (1, 2, 3) print(a, b, c)  # Output: 1 2 3```                                                                        |\n",
    "| 8      | `tuple()`            | Mengonversi koleksi data lain menjadi Tuple.                                                      | ```python tuple([1, 2, 3])  # Output: (1, 2, 3)```                                                                                      |\n",
    "| 9      | Slicing              | Mengambil bagian dari Tuple menggunakan slicing seperti List.                                     | ```python hewan = (\"kucing\", \"anjing\", \"kelinci\") print(hewan[1:])  # Output: ('anjing', 'kelinci')```                                   |\n",
    "| 10     | Immutability         | Tuple tidak dapat diubah setelah dideklarasikan.                                                  | ```python hewan = (\"kucing\", \"anjing\") hewan[0] = \"ular\"  # Output: TypeError: 'tuple' object does not support item assignment```        |\n",
    "\n",
    "---\n",
    "\n",
    "---\n",
    "\n",
    "## 3. **Perbedaan List dan Tuple**\n",
    "\n",
    "| **List**                        | **Tuple**                        |\n",
    "|----------------------------------|----------------------------------|\n",
    "| Elemen **dapat diubah** (mutable). | Elemen **tidak dapat diubah** (immutable). |\n",
    "| Didefinisikan dengan tanda kurung siku `[ ]`. | Didefinisikan dengan tanda kurung biasa `( )`. |\n",
    "| Memiliki lebih banyak method untuk manipulasi data. | Method lebih sedikit karena bersifat immutable. |\n",
    "| Lebih lambat dibandingkan Tuple dalam hal performa. | Lebih cepat dan efisien dalam hal performa. |\n",
    "\n",
    "---\n",
    "\n",
    "## 4. **Soal dan Latihan**\n",
    "**Note:** Gunakan logika pemrograman bukan cuman ngikutin gambar. Baca betul-betul apa yang di intruksikan!!"
   ]
  },
  {
   "cell_type": "markdown",
   "id": "f8f25b2d-716f-4cda-9bca-e01a6d92c80b",
   "metadata": {},
   "source": [
    "### **Soal 1 - Operasi Dasar pada Tuple**\n",
    "**Contoh Kode:**\n",
    "\n",
    "<img src=\"Screenshot (1).png\" alt=\"Deskripsi Gambar\" width=\"450\" style=\"margin-left: 30px;\" />\n",
    "\n",
    "**Instruksi:**\n",
    "1. Buat sebuah Tuple berisi nama-nama mahasiswa.\n",
    "2. Tampilkan jumlah elemen dalam Tuple menggunakan `len()`.\n",
    "3. Cari indeks dari nama tertentu menggunakan `index()`.\n",
    "4. Hitung berapa kali nama tertentu muncul dalam Tuple menggunakan `count()`.\n",
    "---"
   ]
  },
  {
   "cell_type": "code",
   "execution_count": 1,
   "id": "b3f87cea-e50a-46fd-820f-bc12703db8da",
   "metadata": {
    "id": "ea6a12c4-1360-4bfe-a05f-4098604926bc"
   },
   "outputs": [
    {
     "name": "stdout",
     "output_type": "stream",
     "text": [
      "Jumlah mahasiswa: 4\n",
      "Indeks 'ibnu': 1\n",
      "Jumlah 'ibnu': 1\n"
     ]
    }
   ],
   "source": [
    "# Ketikan Code Disini lalu Jalankan (Run)\n",
    "mahasiswa = ('ibnu', 'sabil', 'al', 'zahari')\n",
    "print(f\"Jumlah mahasiswa: {len(mahasiswa)}\")\n",
    "print(f\"Indeks 'ibnu': {mahasiswa.index('sabil')}\")\n",
    "print(f\"Jumlah 'ibnu': {mahasiswa.count('sabil')}\")\n"
   ]
  },
  {
   "cell_type": "markdown",
   "id": "2b0246ff-584f-4484-b52d-18733bcde7ae",
   "metadata": {},
   "source": [
    "### **Soal 2 - Tuple Packing dan Unpacking**\n",
    "\n",
    "**Contoh Kode:**\n",
    "\n",
    "<img src=\"Screenshot (2).png\" alt=\"Deskripsi Gambar\" width=\"450\" style=\"margin-left: 30px;\" />\n",
    "\n",
    "**Instruksi:**\n",
    "1. Buat program yang menampung nama lengkap dan NIM mahasiswa dalam Tuple.\n",
    "2. Gunakan Tuple Packing untuk menyimpan data.\n",
    "3. Gunakan Tuple Unpacking untuk menampilkan nama dan NIM secara terpisah.\n",
    "\n",
    "\n",
    "---\n",
    "\n"
   ]
  },
  {
   "cell_type": "code",
   "execution_count": null,
   "id": "a61ed888-46f5-4412-bffe-22824dc41f1e",
   "metadata": {
    "id": "ea6a12c4-1360-4bfe-a05f-4098604926bc"
   },
   "outputs": [],
   "source": [
    "# Ketikan Code Disini lalu Jalankan (Run)\n",
    "\n",
    "#Tuple packing\n",
    "data_mahasiswa = (\"Ibnu Shabill Al Zahari\", \"2411102441264\")\n",
    "\n",
    "#Tuple unpacking\n",
    "nama, nim = data_mahasiswa\n",
    "print(f\"Nama: {nama}\")\n",
    "print(f\"NIM: {nim}\")"
   ]
  },
  {
   "cell_type": "markdown",
   "id": "027609a3-346c-4999-a485-772128a8bb6a",
   "metadata": {},
   "source": [
    "### **Soal 3 - Konversi ke Tuple dan Slicing**\n",
    "**Contoh Kode:**\n",
    "\n",
    "<img src=\"Screenshot (3).png\" alt=\"Deskripsi Gambar\" width=\"450\" style=\"margin-left: 30px;\" />\n",
    "\n",
    "**Instruksi:**\n",
    "1. Buatlah program yang mengonversi List menjadi Tuple.\n",
    "2. Tampilkan elemen-elemen tertentu dari Tuple menggunakan slicing.\n",
    "3. Jelaskan code beserta outputnya!\n",
    "---\n"
   ]
  },
  {
   "cell_type": "code",
   "execution_count": 12,
   "id": "ea6a12c4-1360-4bfe-a05f-4098604926bc",
   "metadata": {
    "id": "ea6a12c4-1360-4bfe-a05f-4098604926bc"
   },
   "outputs": [
    {
     "name": "stdout",
     "output_type": "stream",
     "text": [
      "saya suka buah: ('jeruk', 'mangga', 'anggur')\n",
      "<class 'tuple'>\n"
     ]
    }
   ],
   "source": [
    "# Ketikan Code Disini lalu Jalankan (Run)\n",
    "list_buah = ['apel', 'pisang', 'jeruk', 'mangga', 'anggur', 'melon'] #list buah\n",
    "tuple_buah = tuple(list_buah) #konversi list ke tuple\n",
    "\n",
    "print(f\"saya suka buah: {tuple_buah[2:5]}\") #cetak tuple buah mulai dari elemen kedua atau index ke satu sampai terakhir\n",
    "print(type(tuple_buah)) #cetak tipe data tuple_buah\n",
    "\n",
    "\n",
    "# output yang dihasilkan 'saya suka buah: ('mangga', 'anggur', 'melon')' karena saya memilih index ke 2 sampai 5 dengan type data tuple,a karaen saya sudah mengkonversi list ke tuple"
   ]
  },
  {
   "cell_type": "markdown",
   "id": "b63948ce-0bb1-4efe-90cf-3f3a0ad9b51c",
   "metadata": {},
   "source": [
    "### **Soal 4 - Immutability pada Tuple**\n",
    "**Contoh Kode:**\n",
    "\n",
    "<img src=\"Screenshot (4).png\" alt=\"Deskripsi Gambar\" width=\"450\" style=\"margin-left: 30px;\" />\n",
    "\n",
    "**Instruksi:**\n",
    "1. Buat sebuah Tuple berisi nama-nama kota.\n",
    "2. Coba ubah salah satu elemen dalam Tuple, dan perhatikan error yang terjadi.\n",
    "3. Jelaskan mengapa Tuple tidak bisa diubah.\n",
    "\n",
    "\n",
    "\n",
    "---\n"
   ]
  },
  {
   "cell_type": "code",
   "execution_count": 4,
   "id": "6def281a-5cfc-46d7-9f31-dd7eb60a23f0",
   "metadata": {
    "id": "ea6a12c4-1360-4bfe-a05f-4098604926bc"
   },
   "outputs": [
    {
     "ename": "TypeError",
     "evalue": "'tuple' object does not support item assignment",
     "output_type": "error",
     "traceback": [
      "\u001b[1;31m---------------------------------------------------------------------------\u001b[0m",
      "\u001b[1;31mTypeError\u001b[0m                                 Traceback (most recent call last)",
      "Cell \u001b[1;32mIn[4], line 3\u001b[0m\n\u001b[0;32m      1\u001b[0m \u001b[38;5;66;03m# Ketikan Code Disini lalu Jalankan (Run)\u001b[39;00m\n\u001b[0;32m      2\u001b[0m kota \u001b[38;5;241m=\u001b[39m (\u001b[38;5;124m'\u001b[39m\u001b[38;5;124mJakarta\u001b[39m\u001b[38;5;124m'\u001b[39m, \u001b[38;5;124m'\u001b[39m\u001b[38;5;124mBandung\u001b[39m\u001b[38;5;124m'\u001b[39m, \u001b[38;5;124m'\u001b[39m\u001b[38;5;124mSurabaya\u001b[39m\u001b[38;5;124m'\u001b[39m, \u001b[38;5;124m'\u001b[39m\u001b[38;5;124mSemarang\u001b[39m\u001b[38;5;124m'\u001b[39m, \u001b[38;5;124m'\u001b[39m\u001b[38;5;124mYogyakarta\u001b[39m\u001b[38;5;124m'\u001b[39m)\n\u001b[1;32m----> 3\u001b[0m \u001b[43mkota\u001b[49m\u001b[43m[\u001b[49m\u001b[38;5;241;43m1\u001b[39;49m\u001b[43m]\u001b[49m \u001b[38;5;241m=\u001b[39m \u001b[38;5;124m\"\u001b[39m\u001b[38;5;124mBerau\u001b[39m\u001b[38;5;124m\"\u001b[39m\n",
      "\u001b[1;31mTypeError\u001b[0m: 'tuple' object does not support item assignment"
     ]
    }
   ],
   "source": [
    "# Ketikan Code Disini lalu Jalankan (Run)\n",
    "kota = ('Jakarta', 'Bandung', 'Surabaya', 'Semarang', 'Yogyakarta')\n",
    "kota[1] = \"Berau\""
   ]
  },
  {
   "cell_type": "markdown",
   "id": "deb43fe2",
   "metadata": {},
   "source": [
    "### Penjelasan Error\n",
    "Jadi Tuple itu adalah jenis koleksi data untuk meyimpan beberapa item yang tidak dapat diuabh (**immutable**) setelah didefinisikan. Oleh karena itux code di atas error `TypeError: 'tuple' object does not support item assignment`, karena kita mencoba mengubah item tuple di index 1 (dalam hal ini 'Bandung') menjadi 'Berau' `kota[1] = \"Berau\"` yang sifat nya **immutable**. \n",
    "\n"
   ]
  },
  {
   "cell_type": "markdown",
   "id": "dd888d74",
   "metadata": {},
   "source": [
    "# Kesimpulan\n",
    "<center>\n",
    "    <img src=\"https://realpython.com/cdn-cgi/image/width=960,format=auto/https://files.realpython.com/media/Pythons-tuple-Built-in-Data-Type-A-Deep-Dive-with-Examples_Watermarked.e85efb14c955.jpg\" alt=\"Lists-and-Tuples-in-Python\" width=\"30%\"/>\n",
    "</center><br><br><br>\n",
    "\n",
    "\n",
    "\n",
    "\n",
    "<font size=\"5\">Tuple adalah jenis koleksi data untuk meyimpan beberapa item yang tidak dapat diuabh (**immutable**) setelah didefinisikan.Tuple biasanya digunakan untuk mengelompokkan data yang terkait bersama dan memastikan bahwa data tersebut tidak diubah secara tidak sengaja.</font>\n",
    "\n",
    "\n",
    "\n",
    "\n",
    "\n",
    "<font size=\"5\">Perbedaan antara tuple dan list:\n",
    "\n",
    "\n",
    "<img src=\"https://realpython.com/cdn-cgi/image/width=960,format=auto/https://files.realpython.com/media/Lists-and-Tuples-in-Python_Watermarked.a52798070b3e.jpg\" alt=\"Lists-and-Tuples-in-Python\" width=\"450\" style=\"margin-left: 30px;\" />\n",
    "\n",
    "\n",
    "\n",
    "\n",
    "1. **List**<br>\n",
    "    a. list adalah kumpulan data yang diurutkan dan dapat diubah<br>\n",
    "    b. list ditulis dalam tanda kurung array, seperi `[]`<br>\n",
    "\n",
    "\n",
    "2. **tuple**<br>\n",
    "    a. Tuple adalah kumpulan data yang teratur yang tidak dapaat diubah atau immutable<br>\n",
    "    b. Tuple di python di tulis dalam tanda kurung bulat, seperti `()`<br>\n",
    "</font>\n",
    "\n",
    "\n",
    "\n",
    "\n",
    "<font size=\"5\">\n",
    "\n",
    "**Tuple Methods**\n",
    "\n",
    "di python tuple memiliki dua methods bawaan yaitu:\n",
    "|  **Methods**  | **Fungsi/Method**   |\n",
    "|-----------|---------------------|\n",
    "| `count()` | Mengembalikan berapa kali nilai tertentu muncul dalam tupel |\n",
    "| `index()` | Mencari tupel untuk nilai tertentu dan mengembalikan posisi di mana nilai itu ditemukan | \n",
    "\n",
    "</font>\n"
   ]
  },
  {
   "cell_type": "markdown",
   "id": "c8d4d30c",
   "metadata": {},
   "source": []
  }
 ],
 "metadata": {
  "colab": {
   "provenance": []
  },
  "kernelspec": {
   "display_name": "Python 3",
   "language": "python",
   "name": "python3"
  },
  "language_info": {
   "codemirror_mode": {
    "name": "ipython",
    "version": 3
   },
   "file_extension": ".py",
   "mimetype": "text/x-python",
   "name": "python",
   "nbconvert_exporter": "python",
   "pygments_lexer": "ipython3",
   "version": "3.12.7"
  },
  "widgets": {
   "application/vnd.jupyter.widget-state+json": {
    "state": {},
    "version_major": 2,
    "version_minor": 0
   }
  }
 },
 "nbformat": 4,
 "nbformat_minor": 5
}
