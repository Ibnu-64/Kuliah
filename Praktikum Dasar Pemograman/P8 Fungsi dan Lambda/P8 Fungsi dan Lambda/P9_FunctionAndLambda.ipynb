{
 "cells": [
  {
   "cell_type": "markdown",
   "id": "b3450a5a-c882-48e6-8aae-8be59018aedb",
   "metadata": {
    "id": "b3450a5a-c882-48e6-8aae-8be59018aedb"
   },
   "source": [
    "# **Modul Pertemuan 10: Fungsi dan Lambda**\n",
    "\n",
    "## **Pembahasan**\n",
    "\n",
    "Pada pertemuan kali ini, kita akan membahas dua konsep penting dalam Python, yaitu fungsi dan lambda. Pemahaman terhadap kedua konsep ini akan sangat membantu dalam menyusun kode yang lebih modular, rapi, dan efisien.\n",
    "\n",
    "### **1. Fungsi**\n",
    "\n",
    "Fungsi adalah kumpulan perintah yang dirancang untuk melakukan tugas tertentu. Dalam Python, fungsi dapat didefinisikan dengan kata kunci `def`. Fungsi ini dapat memiliki parameter sebagai input untuk diproses, dan bisa mengembalikan output menggunakan `return`.\n",
    "\n",
    "Berikut adalah contoh sederhana fungsi yang menghitung luas segitiga:\n",
    "\n",
    "   <img src=\"Screenshot (1).png\" alt=\"Deskripsi Gambar\" width=\"450\" style=\"margin-left: 30px;\" />\n",
    "\n",
    "#### **Manfaat menggunakan fungsi:**\n",
    "1. **Reusabilitas Kode:** Fungsi memungkinkan kita untuk menggunakan kembali kode tanpa perlu menulis ulang.\n",
    "2. **Modularitas:** Program yang kompleks dapat dibagi menjadi beberapa fungsi yang lebih kecil dan mudah dikelola.\n",
    "\n",
    "### **2. Parameter pada Fungsi**\n",
    "\n",
    "Parameter digunakan untuk memberikan data yang akan diproses oleh fungsi. Fungsi dapat memiliki parameter opsional (default) atau wajib diisi oleh pengguna. Misalnya, berikut contoh fungsi dengan parameter default:\n",
    "\n",
    "   <img src=\"Screenshot (2).png\" alt=\"Deskripsi Gambar\" width=\"450\" style=\"margin-left: 30px;\" />\n",
    "\n",
    "Pada contoh di atas, jika nilai pi tidak diberikan, maka secara default fungsi akan menggunakan 3.14.\n",
    "\n",
    "### **3. Fungsi dengan Nilai Balik (Return Value)**\n",
    "\n",
    "Fungsi dapat mengembalikan nilai menggunakan perintah `return`. Nilai yang dikembalikan dapat digunakan oleh bagian lain dari program. Berikut contoh fungsi yang mengembalikan nilai balik:\n",
    "\n",
    "   <img src=\"Screenshot (3).png\" alt=\"Deskripsi Gambar\" width=\"450\" style=\"margin-left: 30px;\" />\n",
    "\n",
    "### **4. Fungsi Rekursif**\n",
    "\n",
    "Fungsi rekursif adalah fungsi yang memanggil dirinya sendiri di dalam tubuh fungsi tersebut. Fungsi rekursif sangat berguna untuk memecah masalah yang kompleks menjadi sub-masalah yang lebih kecil.\n",
    "\n",
    "Berikut contoh sederhana dari fungsi rekursif:\n",
    "\n",
    "   <img src=\"Screenshot (4).png\" alt=\"Deskripsi Gambar\" width=\"350\" style=\"margin-left: 30px;\" />\n",
    "   \n",
    "### **5. Fungsi Lambda**\n",
    "\n",
    "Fungsi lambda adalah fungsi anonim yang didefinisikan tanpa menggunakan nama. Fungsi ini biasanya digunakan untuk tugas-tugas sederhana yang membutuhkan satu baris kode.\n",
    "\n",
    "Contoh fungsi lambda:\n",
    "\n",
    "   <img src=\"Screenshot (5).png\" alt=\"Deskripsi Gambar\" width=\"350\" style=\"margin-left: 30px;\" />\n",
    "\n",
    "Lambda sering digunakan bersama fungsi seperti `map()` dan `filter()` untuk melakukan operasi cepat.\n",
    "\n",
    "---\n",
    "\n",
    "## **Tugas**\n",
    "\n",
    "Setelah memahami konsep-konsep di atas, selanjutnya adalah latihan soal. Pada setiap soal, kerjakan dengan benar sesuai dengan instruksi.\n",
    "**Note:** Gunakan logika pemrograman bukan cuman ngikutin gambar. Baca betul-betul apa yang di intruksikan!!\n"
   ]
  },
  {
   "attachments": {},
   "cell_type": "markdown",
   "id": "e989c82b-4c5e-4eaf-9152-4a4c9a494b65",
   "metadata": {},
   "source": [
    "### **1. Soal Fungsi**\n",
    "\n",
    "#### Soal 1\n",
    "Buatlah sebuah fungsi bernama ```volume_kubus``` yang menghitung volume sebuah kubus dengan parameter panjang sisi menggunakan ```return``` . Volume kubus dihitung dengan rumus: \\begin{equation}( V = s^3 ).\\end{equation}\n",
    "Berikut adalah **format fungsi** yang **salah**:\n",
    "\n",
    "   <img src=\"Screenshot (6).png\" alt=\"Deskripsi Gambar\" width=\"250\" style=\"margin-left: 30px;\" />\n",
    "   \n",
    "- Perbaiki lalu jelaskan apa yang salah dari **format fungsi** tersebut\n"
   ]
  },
  {
   "cell_type": "code",
   "execution_count": null,
   "id": "b4beb5da-51a9-47ff-a732-d6cf9247ae74",
   "metadata": {
    "id": "ea6a12c4-1360-4bfe-a05f-4098604926bc"
   },
   "outputs": [
    {
     "name": "stdout",
     "output_type": "stream",
     "text": [
      "125\n"
     ]
    }
   ],
   "source": [
    "# Ketikan Code Disini lalu Jalankan (Run)\n",
    "\n",
    "# fungsu untuk menghitung volume kubus\n",
    "def volume_kubus(sisi):\n",
    "    volume = sisi ** 3 # rumus volume sisi x sisi x sisi\n",
    "    return volume # kembalikan nilai volume\n",
    "\n",
    "volumeKubus = volume_kubus(5) # panggil fungsi volume_kubus dengan parameter sisi 5\n",
    "print(volumeKubus) # cetak hasil volume kubus\n",
    "\n",
    "\n",
    "# kesalahan dari fungsi diatas adalah tidak mengembalikan nilai dari volume kubus yg di perintahkan oleh soal"
   ]
  },
  {
   "attachments": {},
   "cell_type": "markdown",
   "id": "e5f438bd-f3c6-4dda-980f-21b9b9fc4125",
   "metadata": {},
   "source": [
    "#### Soal 2\n",
    "Buatlah sebuah fungsi bernama `cek_genap` yang menerima satu parameter bilangan bulat dan mengembalikan `True` jika bilangan tersebut genap, dan `False` jika ganjil.\n",
    "\n",
    "\n"
   ]
  },
  {
   "cell_type": "code",
   "execution_count": 11,
   "id": "d952ff4f-fbe5-465e-a064-b997bb5aa1a0",
   "metadata": {
    "id": "ea6a12c4-1360-4bfe-a05f-4098604926bc"
   },
   "outputs": [
    {
     "name": "stdout",
     "output_type": "stream",
     "text": [
      "apakah 10 adalah bilangan genap :True\n",
      "apakah 3 adalah bilangan genap :False\n"
     ]
    }
   ],
   "source": [
    "# Ketikan Code Disini lalu Jalankan (Run)\n",
    "def cek_genap(num):\n",
    "    return num % 2 == 0\n",
    "\n",
    "\n",
    "x = 10\n",
    "y = 3\n",
    "print(f\"apakah {x} adalah bilangan genap :{cek_genap(x)}\")\n",
    "print(f\"apakah {y} adalah bilangan genap :{cek_genap(y)}\")"
   ]
  },
  {
   "attachments": {},
   "cell_type": "markdown",
   "id": "cd9029d1-efb9-470a-86ab-d4398ff9bf7d",
   "metadata": {},
   "source": [
    "#### Soal 3\n",
    "Modifikasi dan perbaikilah fungsi di soal 2 menjadi fungsi lambda. Jelaskan kenapa bisa begitu!"
   ]
  },
  {
   "cell_type": "code",
   "execution_count": null,
   "id": "b66bfaa8-ddd5-48b8-82a6-51ce2b3fc73f",
   "metadata": {
    "id": "ea6a12c4-1360-4bfe-a05f-4098604926bc"
   },
   "outputs": [
    {
     "name": "stdout",
     "output_type": "stream",
     "text": [
      "apakah 56 adalah bilangan genap :True\n",
      "apakah 33 adalah bilangan genap :False\n"
     ]
    }
   ],
   "source": [
    "# Ketikan Code Disini lalu Jalankan (Run)\n",
    "is_genap = lambda num: num % 2 == 0 # fungsi lambda untuk mengecek bilangan genap\n",
    "a = 56\n",
    "b = 33\n",
    "print(f\"apakah {a} adalah bilangan genap :{cek_genap(a)}\")\n",
    "print(f\"apakah {b} adalah bilangan genap :{cek_genap(b)}\")\n",
    "\n",
    "# lambda adalah fungsi tanpa nama yg bisa di definisikan dalam satu baris kode (labda argument: expression)"
   ]
  },
  {
   "attachments": {},
   "cell_type": "markdown",
   "id": "b4a48e8a-56e1-46b9-8f73-254be026c712",
   "metadata": {},
   "source": [
    "#### Soal 4\n",
    "Buatlah fungsi rekursif yang menghitung faktorial dari sebuah bilangan bulat positif. Faktorial dari n dinyatakan sebagai\n",
    "\\begin{equation}\n",
    "n! = n \\times (n-1) \\times (n-2) \\times \\dots \\times 1\n",
    "\\end{equation}\n",
    "\n",
    "Berikut contoh pemanggilan fungsi:\n",
    "   \n",
    "   <img src=\"Screenshot (7).png\" alt=\"Deskripsi Gambar\" width=\"250\" style=\"margin-left: 30px;\" />\n",
    "\n",
    "- Jelaskan outputnya kenapa begitu, dari alur perhitungan sampai ke alur code\n"
   ]
  },
  {
   "cell_type": "code",
   "execution_count": null,
   "id": "a0a08a3c-ebff-45bc-949d-c9b72eb7f9d7",
   "metadata": {
    "id": "ea6a12c4-1360-4bfe-a05f-4098604926bc"
   },
   "outputs": [
    {
     "name": "stdout",
     "output_type": "stream",
     "text": [
      "120\n"
     ]
    }
   ],
   "source": [
    "# Ketikan Code Disini lalu Jalankan (Run)\n",
    "# fungsi rekursif untuk menghitung faktorial\n",
    "def factorial(n):\n",
    "    if n == 0: # jika n = 0 maka return 1\n",
    "        return 1\n",
    "    else: # jika tidak maka return n * fungsi factorial(n-1)\n",
    "        return n * factorial(n-1)\n",
    "\n",
    "print(factorial(5)) # cetak hasil faktorial dari 5\n",
    "# fungsi rekursif adalah fungsi yg memanggil dirinya sendiri dengan parameter yg berbeda. dalam kasus ini fungsi factorial memanggil dirinya sendiri dengan parameter n-1 \n",
    "# contoh\n",
    "# factorial(5) = 5 * factorial(4)\n",
    "# 5 * 4 * factorial(3) \n",
    "# 5 * 4 * 3 * factorial(2) \n",
    "# 5 * 4 * 3 * 2 * factorial(1) \n",
    "# 5 * 4 * 3 * 2 * 1 * factorial(0) => karena n = 0 maka return 1\n",
    "# 5 * 4 * 3 * 2 * 1 * 1 = 120"
   ]
  },
  {
   "cell_type": "markdown",
   "id": "28e24639-72f7-4d78-8169-b805c5bee744",
   "metadata": {},
   "source": [
    "### **2. Soal Lambda**\n",
    "\n",
    "#### Soal 5\n",
    "Buatlah sebuah lambda function yang menerima dua parameter `x` dan `y`, dan mengembalikan nilai `x` pangkat `y`. Jelaskan code dan outputnya\n"
   ]
  },
  {
   "cell_type": "code",
   "execution_count": 47,
   "id": "b3f87cea-e50a-46fd-820f-bc12703db8da",
   "metadata": {
    "id": "ea6a12c4-1360-4bfe-a05f-4098604926bc"
   },
   "outputs": [
    {
     "name": "stdout",
     "output_type": "stream",
     "text": [
      "8\n"
     ]
    }
   ],
   "source": [
    "# Ketikan Code Disini lalu Jalankan (Run)\n",
    "quad = lambda x,y: x ** y # fungsi lambda untuk menghitung kuadrat\n",
    "\n",
    "print(quad(2,3)) # cetak hasil kuadrat dari 2 pangkat 3\n",
    "\n",
    "# output dari kode diatas adalah 8 karena x=2 pangkat y=3 di masukan ke dalam fungsi lambda quad dan dihitung x pangkat y. setelah itu lambda mengembalikan nilai dari x pangkat y"
   ]
  },
  {
   "cell_type": "markdown",
   "id": "e209067c-8f21-42d5-9a2a-8c7e753e4488",
   "metadata": {},
   "source": [
    "\n",
    "#### Soal 6\n",
    "Gunakan fungsi lambda untuk memfilter bilangan genap dari daftar berikut menggunakan `filter()`:\n",
    "\n",
    "   <img src=\"Screenshot (8).png\" alt=\"Deskripsi Gambar\" width=\"250\" style=\"margin-left: 30px;\" />\n",
    "\n",
    "jelaskan code dan output nya!\n",
    "\n",
    "---\n"
   ]
  },
  {
   "cell_type": "code",
   "execution_count": null,
   "id": "4815cd3f-46c7-4bdd-b5c2-832718a85d39",
   "metadata": {
    "id": "ea6a12c4-1360-4bfe-a05f-4098604926bc"
   },
   "outputs": [
    {
     "name": "stdout",
     "output_type": "stream",
     "text": [
      "[2, 4, 6, 8, 10, 12, 14, 16, 18, 20, 22, 24, 26, 28, 30, 32, 34, 36, 38, 40, 42, 44, 46, 48, 50, 52, 54, 56, 58, 60, 62, 64, 66, 68, 70, 72, 74, 76, 78, 80, 82, 84, 86, 88, 90, 92, 94, 96, 98, 100, 102, 104, 106, 108, 110, 112, 114, 116, 118, 120, 122, 124, 126, 128, 130, 132, 134, 136, 138, 140, 142, 144, 146, 148, 150, 152, 154, 156, 158, 160, 162, 164, 166, 168, 170, 172, 174, 176, 178, 180, 182, 184, 186, 188, 190, 192, 194, 196, 198, 200, 202, 204, 206, 208, 210, 212, 214, 216, 218, 220, 222, 224, 226, 228, 230, 232, 234, 236, 238, 240, 242, 244, 246, 248, 250, 252, 254, 256, 258, 260, 262, 264, 266, 268, 270, 272, 274, 276, 278, 280, 282, 284, 286, 288, 290, 292, 294, 296, 298, 300, 302, 304, 306, 308, 310, 312, 314, 316, 318, 320, 322, 324, 326, 328, 330, 332, 334, 336, 338, 340, 342, 344, 346, 348, 350, 352, 354, 356, 358, 360, 362, 364, 366, 368, 370, 372, 374, 376, 378, 380, 382, 384, 386, 388, 390, 392, 394, 396, 398, 400, 402, 404, 406, 408, 410, 412, 414, 416, 418, 420, 422, 424, 426, 428, 430, 432, 434, 436, 438, 440, 442, 444, 446, 448, 450, 452, 454, 456, 458, 460, 462, 464, 466, 468, 470, 472, 474, 476, 478, 480, 482, 484, 486, 488, 490, 492, 494, 496, 498, 500, 502, 504, 506, 508, 510, 512, 514, 516, 518, 520, 522, 524, 526, 528, 530, 532, 534, 536, 538, 540, 542, 544, 546, 548, 550, 552, 554, 556, 558, 560, 562, 564, 566, 568, 570, 572, 574, 576, 578, 580, 582, 584, 586, 588, 590, 592, 594, 596, 598, 600, 602, 604, 606, 608, 610, 612, 614, 616, 618, 620, 622, 624, 626, 628, 630, 632, 634, 636, 638, 640, 642, 644, 646, 648, 650, 652, 654, 656, 658, 660, 662, 664, 666, 668, 670, 672, 674, 676, 678, 680, 682, 684, 686, 688, 690, 692, 694, 696, 698, 700, 702, 704, 706, 708, 710, 712, 714, 716, 718, 720, 722, 724, 726, 728, 730, 732, 734, 736, 738, 740, 742, 744, 746, 748, 750, 752, 754, 756, 758, 760, 762, 764, 766, 768, 770, 772, 774, 776, 778, 780, 782, 784, 786, 788, 790, 792, 794, 796, 798, 800, 802, 804, 806, 808, 810, 812, 814, 816, 818, 820, 822, 824, 826, 828, 830, 832, 834, 836, 838, 840, 842, 844, 846, 848, 850, 852, 854, 856, 858, 860, 862, 864, 866, 868, 870, 872, 874, 876, 878, 880, 882, 884, 886, 888, 890, 892, 894, 896, 898, 900, 902, 904, 906, 908, 910, 912, 914, 916, 918, 920, 922, 924, 926, 928, 930, 932, 934, 936, 938, 940, 942, 944, 946, 948, 950, 952, 954, 956, 958, 960, 962, 964, 966, 968, 970, 972, 974, 976, 978, 980, 982, 984, 986, 988, 990, 992, 994, 996, 998]\n"
     ]
    }
   ],
   "source": [
    "# Ketikan Code Disini lalu Jalankan (Run)\n",
    "num = range(1,1000) # buat list dari 1 sampai 10\n",
    "genap = list(filter(lambda x: x % 2 == 0, num)) # filter bilangan genap dari list num menggunakan fungsi lambda\n",
    "\n",
    "print(genap) # cetak hasil bilangan genap dari list num\n",
    "\n",
    "# penjelasan output\n",
    "# pertama list num di buat dari 1 sampai 1000\n",
    "# lalu list num di filter menggunakan fungsi lambda dimana lambda akan mengembalikan nilai x jika x % 2 == 0(yang akan mengembalikan type boolean)\n",
    "    #kita tahu bahwa fungsi filter memiliki dua parameter, yaitu fungsi dan interable (filter(function, iterable))\n",
    "    \n",
    "# oleh karena itu saya menggunakan fungsi lambda di parameter pertama untuk memvalidasi apakah x adalah bilangan genap atau tidak. jika true maka x akan di masukan ke dalam list genap jika false maka x tidak di masukan ke dalam list genap\n",
    "# setelah itu casting list genap ke dalam list dan di cetak"
   ]
  },
  {
   "cell_type": "markdown",
   "id": "100a88f2-117e-419e-b456-844dc22bb899",
   "metadata": {},
   "source": [
    "<span style=\"color:red; font-size: 20px;\">\n",
    "<b>Tugas Mandiri </b>\n",
    "</span>\n",
    "\n",
    "- Buatlah algoritma sederhana menggunakan studikasus yang kalian tentukan sendiri dengan menggunakan def rekursi yang dimana menggunakan perulangan itu sendiri.\n",
    "- Jelaskan program."
   ]
  },
  {
   "cell_type": "code",
   "execution_count": null,
   "id": "9b372de8-ac25-424f-ba50-a7ca18bf1871",
   "metadata": {
    "id": "ea6a12c4-1360-4bfe-a05f-4098604926bc"
   },
   "outputs": [
    {
     "name": "stdout",
     "output_type": "stream",
     "text": [
      "Fibonacci of 5 is: 5\n"
     ]
    }
   ],
   "source": [
    "# Ketikan Code Disini lalu Jalankan (Run)\n",
    "#fungsi akan menghitung nilai Fibonacci dari n dengan cara memanggil dirinya sendiri:\n",
    "def fibonacci(n):\n",
    "    if n <= 1: # jika n <= 1 maka return n\n",
    "        return n\n",
    "    else:\n",
    "        return fibonacci(n - 1) + fibonacci(n - 2) # jika tidak maka return fibonacci(n-1) + fibonacci(n-2)\n",
    "\n",
    "n = 10 # fibonacci ke 10\n",
    "print(f\"Fibonacci of {n} is: {fibonacci(n)}\")\n",
    "\n",
    "\n",
    "# penjelasan output\n",
    "# deret Fibonacci adalah deret yang setiap angkanya merupakan jumlah dari dua angka sebelumnya. Angka-angka yang menjadi bagian dari deret Fibonacci dikenal sebagai angka Fibonacci\n",
    "# misal n = 10 maka fibonacci nya adalah 55 => 0, 1, 1, 2, 3, 5, 8, 13, 21, 34, 55\n",
    "\n",
    "# jika dalam rekursi prosesusnya seperti ini\n",
    "# fibonacci(10) = fibonacci(9) + fibonacci(8) \n",
    "# fibonacci(9) = fibonacci(8) + fibonacci(7)\n",
    "# fibonacci(8) = fibonacci(7) + fibonacci(6)\n",
    "# fibonacci(7) = fibonacci(6) + fibonacci(5)\n",
    "# fibonacci(6) = fibonacci(5) + fibonacci(4)\n",
    "# fibonacci(5) = fibonacci(4) + fibonacci(3)\n",
    "# fibonacci(4) = fibonacci(3) + fibonacci(2)\n",
    "# fibonacci(3) = fibonacci(2) + fibonacci(1)\n",
    "# fibonacci(2) = fibonacci(1) + fibonacci(0)\n",
    "# fibonacci(1) = 1 (basis case tercapai, return 1)\n",
    "# fibonacci(0) = 0 (basis case tercapai, return 0)\n",
    "# Sekarang mulai menghitung hasil dari rekursi:\n",
    "# fibonacci(1) = 1\n",
    "# fibonacci(0) = 0\n",
    "# fibonacci(2) = 1 + 0 = 1\n",
    "# fibonacci(3) = 1 + 1 = 2\n",
    "# fibonacci(4) = 2 + 1 = 3\n",
    "# fibonacci(5) = 3 + 2 = 5\n",
    "# fibonacci(6) = 5 + 3 = 8\n",
    "\n",
    "# dan seterusnya hingga fibonacci(10) = 55\n",
    "\n",
    "\n",
    "# catatan:\n",
    "# Fungsi rekursif bekerja seperti tumpukan (stack), yaitu pemanggilan fungsi akan ditunda (ditumpuk) \n",
    "# sampai kondisi dasar (basis case) tercapai. Setelah kondisi dasar tercapai, \n",
    "# setiap pemanggilan fungsi dalam tumpukan akan diselesaikan dari yang terakhir dipanggil \n",
    "# (dari bawah ke atas)\n",
    "\n"
   ]
  },
  {
   "cell_type": "markdown",
   "id": "93cdda36-f71b-4995-a92f-b5682f5246f6",
   "metadata": {},
   "source": [
    "# Jelaskan  Kesimpulan dari Pertemuan kali ini Dengan Format Markdown, Min.3 Baris\n",
    "# Note: nilai plus buat yang masukkan gambar, visualisasi penjelasan, dan table penjelasan\n",
    "# Kesimpulan\n",
    "\n",
    "* Fungsi adalah kumpulan perintah yang dapat digunakan untuk menyelesaikan tugas tertentu. Fungsi meningkatkan reusabilitas kode dan membantu modularitas program, sehingga kode menjadi lebih mudah dibaca, dikelola, dan digunakan kembali.\n",
    "* Parameter pada Fungsi untuk memasukkan data ke dalam fungsi. Parameter bisa berupa parameter default atau parameter wajib. `def eksponen(x, n=2)`\n",
    "* Return Value nilai yg dikembalikan oleh fungsi yg bisa digunakan di bagian lain dari program\n",
    "* Fungsi Rekursif adalah fungsi yang memanggil dirinya sendiri\n",
    "* Lambda adalah fungsi anonim satu baris yang sering dipakai untuk operasi sederhana dan cepat. Lambda cocok digunakan dengan fungsi bawaan seperti map() dan filter() untuk memproses data secara efisien."
   ]
  }
 ],
 "metadata": {
  "colab": {
   "provenance": []
  },
  "kernelspec": {
   "display_name": "Python 3",
   "language": "python",
   "name": "python3"
  },
  "language_info": {
   "codemirror_mode": {
    "name": "ipython",
    "version": 3
   },
   "file_extension": ".py",
   "mimetype": "text/x-python",
   "name": "python",
   "nbconvert_exporter": "python",
   "pygments_lexer": "ipython3",
   "version": "3.12.7"
  },
  "widgets": {
   "application/vnd.jupyter.widget-state+json": {
    "state": {},
    "version_major": 2,
    "version_minor": 0
   }
  }
 },
 "nbformat": 4,
 "nbformat_minor": 5
}
